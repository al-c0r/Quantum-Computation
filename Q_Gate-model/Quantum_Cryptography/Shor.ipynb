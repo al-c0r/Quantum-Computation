{
  "cells": [
    {
      "cell_type": "code",
      "execution_count": 37,
      "id": "5cb3f4a3-0b95-496d-9f81-e01084a0a1eb",
      "metadata": {
        "id": "5cb3f4a3-0b95-496d-9f81-e01084a0a1eb"
      },
      "outputs": [],
      "source": [
        "import math as m"
      ]
    },
    {
      "cell_type": "code",
      "execution_count": null,
      "id": "217a62a1-8ae5-4c62-9122-9f1068982eaa",
      "metadata": {
        "id": "217a62a1-8ae5-4c62-9122-9f1068982eaa"
      },
      "outputs": [],
      "source": [
        "#Preparing KeyGen"
      ]
    },
    {
      "cell_type": "code",
      "execution_count": 2,
      "id": "a2fcfd38-b94c-48b3-8d76-02b990d96e48",
      "metadata": {
        "colab": {
          "base_uri": "https://localhost:8080/"
        },
        "id": "a2fcfd38-b94c-48b3-8d76-02b990d96e48",
        "outputId": "91c1943d-6060-46ca-fb4d-12df5e928e23"
      },
      "outputs": [
        {
          "output_type": "stream",
          "name": "stdout",
          "text": [
            "Enter 2 primes\n"
          ]
        }
      ],
      "source": [
        "#Sampling 2 primes\n",
        "print(\"Enter 2 primes\")\n",
        "'''p = int(input())\n",
        "q = int(input())'''\n",
        "p = 3\n",
        "q = 5"
      ]
    },
    {
      "cell_type": "code",
      "execution_count": 3,
      "id": "e1ec57c2-b07e-40bc-b253-1b3b5eb7c5a8",
      "metadata": {
        "colab": {
          "base_uri": "https://localhost:8080/"
        },
        "id": "e1ec57c2-b07e-40bc-b253-1b3b5eb7c5a8",
        "outputId": "d5f8449f-64d2-4bb4-eb92-515652f5b2a1"
      },
      "outputs": [
        {
          "output_type": "execute_result",
          "data": {
            "text/plain": [
              "(3, 5)"
            ]
          },
          "metadata": {},
          "execution_count": 3
        }
      ],
      "source": [
        "p, q"
      ]
    },
    {
      "cell_type": "code",
      "execution_count": 3,
      "id": "6ecbcd8f-2e9c-4d40-996f-e5d74471b465",
      "metadata": {
        "colab": {
          "base_uri": "https://localhost:8080/"
        },
        "id": "6ecbcd8f-2e9c-4d40-996f-e5d74471b465",
        "outputId": "94c836a0-db8b-44cc-ad28-a723b5f7bd05"
      },
      "outputs": [
        {
          "output_type": "execute_result",
          "data": {
            "text/plain": [
              "15"
            ]
          },
          "metadata": {},
          "execution_count": 3
        }
      ],
      "source": [
        "#Preparing a simple composite number made of above 2 primes\n",
        "N = p*q\n",
        "N"
      ]
    },
    {
      "cell_type": "code",
      "execution_count": 4,
      "id": "c6e0a84c-b892-4a8d-ac82-556619b12575",
      "metadata": {
        "colab": {
          "base_uri": "https://localhost:8080/"
        },
        "id": "c6e0a84c-b892-4a8d-ac82-556619b12575",
        "outputId": "f273db3b-96d7-4a7e-eff3-d08381ba2035"
      },
      "outputs": [
        {
          "output_type": "execute_result",
          "data": {
            "text/plain": [
              "8"
            ]
          },
          "metadata": {},
          "execution_count": 4
        }
      ],
      "source": [
        "#Euler Totient\n",
        "Phi_N = (p-1)*(q-1)\n",
        "Phi_N"
      ]
    },
    {
      "cell_type": "code",
      "execution_count": null,
      "id": "141d09b5-200a-4810-8e0e-208a656901cc",
      "metadata": {
        "id": "141d09b5-200a-4810-8e0e-208a656901cc"
      },
      "outputs": [],
      "source": [
        "#Determining the exponent"
      ]
    },
    {
      "cell_type": "code",
      "execution_count": 5,
      "id": "6a4dc480-8177-4894-957a-806ca6ca7644",
      "metadata": {
        "colab": {
          "base_uri": "https://localhost:8080/"
        },
        "id": "6a4dc480-8177-4894-957a-806ca6ca7644",
        "outputId": "2c9887bf-813f-45c1-c5ef-c91f546901a0"
      },
      "outputs": [
        {
          "output_type": "execute_result",
          "data": {
            "text/plain": [
              "3"
            ]
          },
          "metadata": {},
          "execution_count": 5
        }
      ],
      "source": [
        "e = 1\n",
        "for i in range(2, Phi_N):\n",
        "    if m.gcd(i, Phi_N)==1:\n",
        "        e = i\n",
        "        break\n",
        "    else: pass\n",
        "e"
      ]
    },
    {
      "cell_type": "code",
      "execution_count": null,
      "id": "57b5cd77-617f-46c5-9374-f091a5c1a248",
      "metadata": {
        "id": "57b5cd77-617f-46c5-9374-f091a5c1a248"
      },
      "outputs": [],
      "source": [
        "#We now got the KeyGen necessary for RSA i.e. N, e which is supposed to be announced publically"
      ]
    },
    {
      "cell_type": "code",
      "execution_count": null,
      "id": "ac398fa8-91c0-4963-83e3-dc758649cde4",
      "metadata": {
        "id": "ac398fa8-91c0-4963-83e3-dc758649cde4"
      },
      "outputs": [],
      "source": []
    },
    {
      "cell_type": "code",
      "execution_count": null,
      "id": "192b5716-bdd9-4823-986f-5a21275602e5",
      "metadata": {
        "id": "192b5716-bdd9-4823-986f-5a21275602e5"
      },
      "outputs": [],
      "source": [
        "#Let's prepare a Secret key 'd'"
      ]
    },
    {
      "cell_type": "code",
      "execution_count": 6,
      "id": "783776a4-1fb5-4327-b8e5-0683a33de90e",
      "metadata": {
        "colab": {
          "base_uri": "https://localhost:8080/"
        },
        "id": "783776a4-1fb5-4327-b8e5-0683a33de90e",
        "outputId": "62e0093c-27b9-4e4a-b8df-852c555e8912"
      },
      "outputs": [
        {
          "output_type": "execute_result",
          "data": {
            "text/plain": [
              "3"
            ]
          },
          "metadata": {},
          "execution_count": 6
        }
      ],
      "source": [
        "d = 1\n",
        "for i in range(2, Phi_N):\n",
        "    #print(i, i*e%(Phi_N))\n",
        "    if i*e%(Phi_N)==1:\n",
        "        d=i\n",
        "        break\n",
        "d"
      ]
    },
    {
      "cell_type": "code",
      "execution_count": null,
      "id": "5eebcf06-d31d-4bff-972d-23bfcd3367e4",
      "metadata": {
        "id": "5eebcf06-d31d-4bff-972d-23bfcd3367e4"
      },
      "outputs": [],
      "source": []
    },
    {
      "cell_type": "code",
      "execution_count": null,
      "id": "2f21855f-33dc-41ae-a858-ce3824a45241",
      "metadata": {
        "id": "2f21855f-33dc-41ae-a858-ce3824a45241"
      },
      "outputs": [],
      "source": [
        "#There we got the Decryption key, let's prepare encryption model"
      ]
    },
    {
      "cell_type": "code",
      "execution_count": null,
      "id": "e2f87650-eb9a-4fc1-b78e-6e19d5a12d1b",
      "metadata": {
        "id": "e2f87650-eb9a-4fc1-b78e-6e19d5a12d1b"
      },
      "outputs": [],
      "source": []
    },
    {
      "cell_type": "code",
      "execution_count": null,
      "id": "859f3da9-687f-41d9-ac67-8148ccfccc2c",
      "metadata": {
        "id": "859f3da9-687f-41d9-ac67-8148ccfccc2c"
      },
      "outputs": [],
      "source": [
        "#Choice: Simple numbers for toy model"
      ]
    },
    {
      "cell_type": "code",
      "execution_count": 7,
      "id": "bef3c401-270c-4273-b050-9589a6762baa",
      "metadata": {
        "colab": {
          "base_uri": "https://localhost:8080/"
        },
        "id": "bef3c401-270c-4273-b050-9589a6762baa",
        "outputId": "824500ed-d43f-4750-a4e0-3093c6071640"
      },
      "outputs": [
        {
          "output_type": "execute_result",
          "data": {
            "text/plain": [
              "12"
            ]
          },
          "metadata": {},
          "execution_count": 7
        }
      ],
      "source": [
        "#Let's say the message 'm' is merely a number\n",
        "m1 = 12\n",
        "m1"
      ]
    },
    {
      "cell_type": "code",
      "execution_count": 8,
      "id": "c19d6a7d-92b6-4390-9593-9652f75221a1",
      "metadata": {
        "colab": {
          "base_uri": "https://localhost:8080/"
        },
        "id": "c19d6a7d-92b6-4390-9593-9652f75221a1",
        "outputId": "38c95e36-5c24-406a-877a-bfa1849ff39b"
      },
      "outputs": [
        {
          "output_type": "execute_result",
          "data": {
            "text/plain": [
              "3"
            ]
          },
          "metadata": {},
          "execution_count": 8
        }
      ],
      "source": [
        "C = (m1**e)%N\n",
        "C"
      ]
    },
    {
      "cell_type": "code",
      "execution_count": 9,
      "id": "d7c0dd49-2b50-499a-be44-d67ce6616171",
      "metadata": {
        "colab": {
          "base_uri": "https://localhost:8080/"
        },
        "id": "d7c0dd49-2b50-499a-be44-d67ce6616171",
        "outputId": "1bd9a997-f4f2-43f4-a3aa-1ebe73b969d4"
      },
      "outputs": [
        {
          "output_type": "execute_result",
          "data": {
            "text/plain": [
              "12"
            ]
          },
          "metadata": {},
          "execution_count": 9
        }
      ],
      "source": [
        "#Now the part of decryption\n",
        "D_m = (C**d)%N\n",
        "D_m"
      ]
    },
    {
      "cell_type": "code",
      "execution_count": null,
      "id": "aad17523-11a5-4611-88a2-cd48caea02d9",
      "metadata": {
        "id": "aad17523-11a5-4611-88a2-cd48caea02d9"
      },
      "outputs": [],
      "source": []
    },
    {
      "cell_type": "code",
      "execution_count": null,
      "id": "aff402cb-1b09-456f-b3f3-4e653cd44eb8",
      "metadata": {
        "id": "aff402cb-1b09-456f-b3f3-4e653cd44eb8"
      },
      "outputs": [],
      "source": [
        "#Choice: Actual strings to make it deployable in real life scenarios"
      ]
    },
    {
      "cell_type": "code",
      "execution_count": 10,
      "id": "921e1794-dc34-4d4f-8a65-d10f07ce4eab",
      "metadata": {
        "colab": {
          "base_uri": "https://localhost:8080/",
          "height": 36
        },
        "id": "921e1794-dc34-4d4f-8a65-d10f07ce4eab",
        "outputId": "4689f4f5-41f2-4a94-bac2-26d44b6df1c5"
      },
      "outputs": [
        {
          "output_type": "execute_result",
          "data": {
            "text/plain": [
              "'I love programming!'"
            ],
            "application/vnd.google.colaboratory.intrinsic+json": {
              "type": "string"
            }
          },
          "metadata": {},
          "execution_count": 10
        }
      ],
      "source": [
        "M = \"I love programming!\"\n",
        "M"
      ]
    },
    {
      "cell_type": "code",
      "execution_count": 11,
      "id": "7db267ed-a99f-4e30-9559-593f266bf230",
      "metadata": {
        "colab": {
          "base_uri": "https://localhost:8080/"
        },
        "id": "7db267ed-a99f-4e30-9559-593f266bf230",
        "outputId": "b852c406-78eb-4828-dec2-873f8f61669d"
      },
      "outputs": [
        {
          "output_type": "execute_result",
          "data": {
            "text/plain": [
              "19"
            ]
          },
          "metadata": {},
          "execution_count": 11
        }
      ],
      "source": [
        "n = len(M)\n",
        "n"
      ]
    },
    {
      "cell_type": "code",
      "execution_count": null,
      "id": "141e7147-a86b-4a9c-ad66-3f322ba2673f",
      "metadata": {
        "id": "141e7147-a86b-4a9c-ad66-3f322ba2673f"
      },
      "outputs": [],
      "source": [
        "#Let's determine a pragmatic function that swallows a number and spits out a string so one can operation: H(r) XOR m"
      ]
    },
    {
      "cell_type": "code",
      "execution_count": 12,
      "id": "38af1068-d9f7-41e7-b2b0-82e4ab5697a1",
      "metadata": {
        "id": "38af1068-d9f7-41e7-b2b0-82e4ab5697a1"
      },
      "outputs": [],
      "source": [
        "import random as ran"
      ]
    },
    {
      "cell_type": "code",
      "execution_count": 13,
      "id": "62ad5a58-eafb-4184-b6c9-e2e67df65a10",
      "metadata": {
        "id": "62ad5a58-eafb-4184-b6c9-e2e67df65a10"
      },
      "outputs": [],
      "source": [
        "def H(r, n):\n",
        "    out = \"\"\n",
        "    ran.seed(r)\n",
        "    for i in range(n):\n",
        "        out = out + chr(ran.randint(0, 128))\n",
        "    return out"
      ]
    },
    {
      "cell_type": "code",
      "execution_count": 14,
      "id": "bfe8ab92-5710-40a3-9d70-0aa8c24de1da",
      "metadata": {
        "colab": {
          "base_uri": "https://localhost:8080/"
        },
        "id": "bfe8ab92-5710-40a3-9d70-0aa8c24de1da",
        "outputId": "59964f88-04c4-47d3-dd5b-89584900866b"
      },
      "outputs": [
        {
          "output_type": "execute_result",
          "data": {
            "text/plain": [
              "('\"\\x10A\\x1e~sxa5\\x18|\\x07cn\\x00rD:\\x1a', 19)"
            ]
          },
          "metadata": {},
          "execution_count": 14
        }
      ],
      "source": [
        "#A working example of how that so-called Hash function works\n",
        "H(1, n), len(H(1, n))"
      ]
    },
    {
      "cell_type": "code",
      "execution_count": 15,
      "id": "84eed018-60ac-4107-9e68-6eb66f217308",
      "metadata": {
        "colab": {
          "base_uri": "https://localhost:8080/"
        },
        "id": "84eed018-60ac-4107-9e68-6eb66f217308",
        "outputId": "e335218d-104b-4b72-b2e7-de16e05c3bde"
      },
      "outputs": [
        {
          "output_type": "stream",
          "name": "stdout",
          "text": [
            "Pick any number that we're using it to Hash the string:\n"
          ]
        }
      ],
      "source": [
        "print(\"Pick any number that we're using it to Hash the string:\")\n",
        "#r = int(input()) #This is maybe again taken as random integer\n",
        "r=6"
      ]
    },
    {
      "cell_type": "code",
      "execution_count": 16,
      "id": "3889327f-0044-48cb-8496-0d5739d8d71e",
      "metadata": {
        "colab": {
          "base_uri": "https://localhost:8080/",
          "height": 53
        },
        "id": "3889327f-0044-48cb-8496-0d5739d8d71e",
        "outputId": "1216f8e5-f2d8-4119-87ad-e525962a6a03"
      },
      "outputs": [
        {
          "output_type": "stream",
          "name": "stdout",
          "text": [
            "H_c \u0014|B\t\u0000%x_Q\u0005E}2i\u00181C\u0016l\n"
          ]
        },
        {
          "output_type": "execute_result",
          "data": {
            "text/plain": [
              "']\\x1c.xv\\n\\x18OCt,o\\x13V\\x05\\x1a1}\\r'"
            ],
            "application/vnd.google.colaboratory.intrinsic+json": {
              "type": "string"
            }
          },
          "metadata": {},
          "execution_count": 16
        }
      ],
      "source": [
        "C = \"\"\n",
        "H_c = H(r, n)\n",
        "print(\"H_c\", H_c)\n",
        "for i in range(n):\n",
        "    C = C + chr((ord(H_c[i])+ord(M[i]))%128)\n",
        "C"
      ]
    },
    {
      "cell_type": "code",
      "execution_count": 17,
      "id": "d42e7582-f2d8-4d51-88a9-fa0945db22e8",
      "metadata": {
        "colab": {
          "base_uri": "https://localhost:8080/"
        },
        "id": "d42e7582-f2d8-4d51-88a9-fa0945db22e8",
        "outputId": "d838522e-ad1b-480e-c686-28840d9a51db"
      },
      "outputs": [
        {
          "output_type": "execute_result",
          "data": {
            "text/plain": [
              "6"
            ]
          },
          "metadata": {},
          "execution_count": 17
        }
      ],
      "source": [
        "#Encrypting that hash number\n",
        "c = (r**e)%N\n",
        "c"
      ]
    },
    {
      "cell_type": "code",
      "execution_count": 26,
      "id": "eeb18679-95a6-4948-91f1-9c0f23c1ea17",
      "metadata": {
        "colab": {
          "base_uri": "https://localhost:8080/"
        },
        "id": "eeb18679-95a6-4948-91f1-9c0f23c1ea17",
        "outputId": "3142fe64-93fb-4568-b607-e9f27e46f30c"
      },
      "outputs": [
        {
          "output_type": "stream",
          "name": "stdout",
          "text": [
            "The encrypted info is:\n",
            " String: ]\u001c.xv\n",
            "\u0018OCt,o\u0013V\u0005\u001a1}\r \n",
            "Hashed number used: 6\n"
          ]
        }
      ],
      "source": [
        "#This is the end result of encryption\n",
        "print(\"The encrypted info is:\\n\", \"String:\", C, \"\\nHashed number used:\", c)"
      ]
    },
    {
      "cell_type": "code",
      "execution_count": null,
      "id": "dc157905-0dbe-41bb-be1d-3e82ff1b5872",
      "metadata": {
        "id": "dc157905-0dbe-41bb-be1d-3e82ff1b5872"
      },
      "outputs": [],
      "source": []
    },
    {
      "cell_type": "code",
      "execution_count": null,
      "id": "087aac50-d26b-425c-89bd-8216ec03c031",
      "metadata": {
        "id": "087aac50-d26b-425c-89bd-8216ec03c031"
      },
      "outputs": [],
      "source": [
        "#Let's put the decryption into test"
      ]
    },
    {
      "cell_type": "code",
      "execution_count": 18,
      "id": "f89087b4-0621-4cbf-b3c8-b2e8b0778745",
      "metadata": {
        "colab": {
          "base_uri": "https://localhost:8080/"
        },
        "id": "f89087b4-0621-4cbf-b3c8-b2e8b0778745",
        "outputId": "20255c01-8840-4a08-bc76-b1ab41093913"
      },
      "outputs": [
        {
          "output_type": "execute_result",
          "data": {
            "text/plain": [
              "6"
            ]
          },
          "metadata": {},
          "execution_count": 18
        }
      ],
      "source": [
        "d_m = (c**d)%N\n",
        "d_m"
      ]
    },
    {
      "cell_type": "code",
      "execution_count": 19,
      "id": "0049f06b-ead9-43bb-8ffc-207e8c7b9474",
      "metadata": {
        "colab": {
          "base_uri": "https://localhost:8080/",
          "height": 53
        },
        "id": "0049f06b-ead9-43bb-8ffc-207e8c7b9474",
        "outputId": "063d67b6-be17-447e-8479-1a6b66e010f3"
      },
      "outputs": [
        {
          "output_type": "stream",
          "name": "stdout",
          "text": [
            "H_d \u0014|B\t\u0000%x_Q\u0005E}2i\u00181C\u0016l\n"
          ]
        },
        {
          "output_type": "execute_result",
          "data": {
            "text/plain": [
              "'I love programming!'"
            ],
            "application/vnd.google.colaboratory.intrinsic+json": {
              "type": "string"
            }
          },
          "metadata": {},
          "execution_count": 19
        }
      ],
      "source": [
        "d_M = \"\"\n",
        "H_d = H(d_m, n)\n",
        "print(\"H_d\", H_d)\n",
        "for i in range(n):\n",
        "    d_M = d_M + chr((ord(C[i])-ord(H_d[i]))%128)\n",
        "d_M"
      ]
    },
    {
      "cell_type": "code",
      "execution_count": null,
      "id": "26bb2f82-df72-4e48-a35c-5d9ce10027bb",
      "metadata": {
        "id": "26bb2f82-df72-4e48-a35c-5d9ce10027bb"
      },
      "outputs": [],
      "source": []
    },
    {
      "cell_type": "code",
      "execution_count": null,
      "id": "c963d7c7-9e61-4c70-bd17-c0c06a6f46cf",
      "metadata": {
        "id": "c963d7c7-9e61-4c70-bd17-c0c06a6f46cf"
      },
      "outputs": [],
      "source": [
        "#ROLE: Attacker so I have the information of N, e, c, C"
      ]
    },
    {
      "cell_type": "code",
      "execution_count": 21,
      "id": "15cec66f-ce86-48e3-a7a1-503e21e08343",
      "metadata": {
        "colab": {
          "base_uri": "https://localhost:8080/"
        },
        "id": "15cec66f-ce86-48e3-a7a1-503e21e08343",
        "outputId": "74229f61-c073-4cfd-9a11-1089ed415b9e"
      },
      "outputs": [
        {
          "output_type": "execute_result",
          "data": {
            "text/plain": [
              "(15, 3, 6, ']\\x1c.xv\\n\\x18OCt,o\\x13V\\x05\\x1a1}\\r')"
            ]
          },
          "metadata": {},
          "execution_count": 21
        }
      ],
      "source": [
        "N, e, c, C"
      ]
    },
    {
      "cell_type": "code",
      "execution_count": null,
      "id": "c27eb90b-b696-43c2-a848-8ac7cfb43a15",
      "metadata": {
        "id": "c27eb90b-b696-43c2-a848-8ac7cfb43a15"
      },
      "outputs": [],
      "source": [
        "#Choose a random number 'g' less than N"
      ]
    },
    {
      "cell_type": "code",
      "execution_count": 20,
      "id": "ece9f920-985f-4919-a588-20b73fa4293b",
      "metadata": {
        "colab": {
          "base_uri": "https://localhost:8080/"
        },
        "id": "ece9f920-985f-4919-a588-20b73fa4293b",
        "outputId": "dae72c3b-fdd6-4ef0-9a03-f0a3fa70e3ec"
      },
      "outputs": [
        {
          "output_type": "stream",
          "name": "stdout",
          "text": [
            "Guess a number 'g':\n"
          ]
        }
      ],
      "source": [
        "print(\"Guess a number 'g':\")\n",
        "#g = int(input())\n",
        "g = 8"
      ]
    },
    {
      "cell_type": "code",
      "execution_count": 30,
      "id": "c7ca5e91-3a32-4ba5-bc99-41af9ee45a6a",
      "metadata": {
        "id": "c7ca5e91-3a32-4ba5-bc99-41af9ee45a6a"
      },
      "outputs": [],
      "source": [
        "import math as m"
      ]
    },
    {
      "cell_type": "code",
      "execution_count": 21,
      "id": "fd00b7ec-9bad-45c9-a29a-d2d96884ca15",
      "metadata": {
        "colab": {
          "base_uri": "https://localhost:8080/"
        },
        "id": "fd00b7ec-9bad-45c9-a29a-d2d96884ca15",
        "outputId": "97e0a8e1-3485-45a9-ae54-24ad38ee0c08"
      },
      "outputs": [
        {
          "output_type": "execute_result",
          "data": {
            "text/plain": [
              "1"
            ]
          },
          "metadata": {},
          "execution_count": 21
        }
      ],
      "source": [
        "#Is it sharing a common factor?\n",
        "m.gcd(g, N)"
      ]
    },
    {
      "cell_type": "code",
      "execution_count": null,
      "id": "a7f03f76-4f05-44f0-99ca-fe6ab0cbffad",
      "metadata": {
        "id": "a7f03f76-4f05-44f0-99ca-fe6ab0cbffad"
      },
      "outputs": [],
      "source": [
        "#Nope"
      ]
    },
    {
      "cell_type": "code",
      "execution_count": null,
      "id": "f227cfdf-b035-4fd5-8b50-85259db12feb",
      "metadata": {
        "id": "f227cfdf-b035-4fd5-8b50-85259db12feb"
      },
      "outputs": [],
      "source": [
        "'''Find 'P' (even) such that:\n",
        "    g^(P/2)+/-1 = l*N ; 'l' is natural\n",
        "    Strategy:\n",
        "    Sum_x (|x>|g^x>) upto N\n",
        "    '''"
      ]
    },
    {
      "cell_type": "code",
      "execution_count": 22,
      "id": "cf40c602-b2d1-4aa4-8565-e9441b9079fd",
      "metadata": {
        "colab": {
          "base_uri": "https://localhost:8080/"
        },
        "id": "cf40c602-b2d1-4aa4-8565-e9441b9079fd",
        "outputId": "f0721320-c93e-46e0-e98c-c0e45aaa146f"
      },
      "outputs": [
        {
          "output_type": "stream",
          "name": "stdout",
          "text": [
            "Collecting qiskit\n",
            "  Downloading qiskit-2.1.0-cp39-abi3-manylinux_2_17_x86_64.manylinux2014_x86_64.whl.metadata (12 kB)\n",
            "Collecting rustworkx>=0.15.0 (from qiskit)\n",
            "  Downloading rustworkx-0.16.0-cp39-abi3-manylinux_2_17_x86_64.manylinux2014_x86_64.whl.metadata (10 kB)\n",
            "Requirement already satisfied: numpy<3,>=1.17 in /usr/local/lib/python3.11/dist-packages (from qiskit) (2.0.2)\n",
            "Requirement already satisfied: scipy>=1.5 in /usr/local/lib/python3.11/dist-packages (from qiskit) (1.15.3)\n",
            "Requirement already satisfied: dill>=0.3 in /usr/local/lib/python3.11/dist-packages (from qiskit) (0.3.7)\n",
            "Collecting stevedore>=3.0.0 (from qiskit)\n",
            "  Downloading stevedore-5.4.1-py3-none-any.whl.metadata (2.3 kB)\n",
            "Requirement already satisfied: typing-extensions in /usr/local/lib/python3.11/dist-packages (from qiskit) (4.14.0)\n",
            "Collecting pbr>=2.0.0 (from stevedore>=3.0.0->qiskit)\n",
            "  Downloading pbr-6.1.1-py2.py3-none-any.whl.metadata (3.4 kB)\n",
            "Requirement already satisfied: setuptools in /usr/local/lib/python3.11/dist-packages (from pbr>=2.0.0->stevedore>=3.0.0->qiskit) (75.2.0)\n",
            "Downloading qiskit-2.1.0-cp39-abi3-manylinux_2_17_x86_64.manylinux2014_x86_64.whl (7.5 MB)\n",
            "\u001b[2K   \u001b[90m━━━━━━━━━━━━━━━━━━━━━━━━━━━━━━━━━━━━━━━━\u001b[0m \u001b[32m7.5/7.5 MB\u001b[0m \u001b[31m58.6 MB/s\u001b[0m eta \u001b[36m0:00:00\u001b[0m\n",
            "\u001b[?25hDownloading rustworkx-0.16.0-cp39-abi3-manylinux_2_17_x86_64.manylinux2014_x86_64.whl (2.1 MB)\n",
            "\u001b[2K   \u001b[90m━━━━━━━━━━━━━━━━━━━━━━━━━━━━━━━━━━━━━━━━\u001b[0m \u001b[32m2.1/2.1 MB\u001b[0m \u001b[31m69.1 MB/s\u001b[0m eta \u001b[36m0:00:00\u001b[0m\n",
            "\u001b[?25hDownloading stevedore-5.4.1-py3-none-any.whl (49 kB)\n",
            "\u001b[2K   \u001b[90m━━━━━━━━━━━━━━━━━━━━━━━━━━━━━━━━━━━━━━━━\u001b[0m \u001b[32m49.5/49.5 kB\u001b[0m \u001b[31m4.2 MB/s\u001b[0m eta \u001b[36m0:00:00\u001b[0m\n",
            "\u001b[?25hDownloading pbr-6.1.1-py2.py3-none-any.whl (108 kB)\n",
            "\u001b[2K   \u001b[90m━━━━━━━━━━━━━━━━━━━━━━━━━━━━━━━━━━━━━━━━\u001b[0m \u001b[32m109.0/109.0 kB\u001b[0m \u001b[31m8.2 MB/s\u001b[0m eta \u001b[36m0:00:00\u001b[0m\n",
            "\u001b[?25hInstalling collected packages: rustworkx, pbr, stevedore, qiskit\n",
            "Successfully installed pbr-6.1.1 qiskit-2.1.0 rustworkx-0.16.0 stevedore-5.4.1\n",
            "Collecting qiskit_aer\n",
            "  Downloading qiskit_aer-0.17.1-cp311-cp311-manylinux_2_17_x86_64.manylinux2014_x86_64.whl.metadata (8.3 kB)\n",
            "Requirement already satisfied: qiskit>=1.1.0 in /usr/local/lib/python3.11/dist-packages (from qiskit_aer) (2.1.0)\n",
            "Requirement already satisfied: numpy>=1.16.3 in /usr/local/lib/python3.11/dist-packages (from qiskit_aer) (2.0.2)\n",
            "Requirement already satisfied: scipy>=1.0 in /usr/local/lib/python3.11/dist-packages (from qiskit_aer) (1.15.3)\n",
            "Requirement already satisfied: psutil>=5 in /usr/local/lib/python3.11/dist-packages (from qiskit_aer) (5.9.5)\n",
            "Requirement already satisfied: python-dateutil>=2.8.0 in /usr/local/lib/python3.11/dist-packages (from qiskit_aer) (2.9.0.post0)\n",
            "Requirement already satisfied: six>=1.5 in /usr/local/lib/python3.11/dist-packages (from python-dateutil>=2.8.0->qiskit_aer) (1.17.0)\n",
            "Requirement already satisfied: rustworkx>=0.15.0 in /usr/local/lib/python3.11/dist-packages (from qiskit>=1.1.0->qiskit_aer) (0.16.0)\n",
            "Requirement already satisfied: dill>=0.3 in /usr/local/lib/python3.11/dist-packages (from qiskit>=1.1.0->qiskit_aer) (0.3.7)\n",
            "Requirement already satisfied: stevedore>=3.0.0 in /usr/local/lib/python3.11/dist-packages (from qiskit>=1.1.0->qiskit_aer) (5.4.1)\n",
            "Requirement already satisfied: typing-extensions in /usr/local/lib/python3.11/dist-packages (from qiskit>=1.1.0->qiskit_aer) (4.14.0)\n",
            "Requirement already satisfied: pbr>=2.0.0 in /usr/local/lib/python3.11/dist-packages (from stevedore>=3.0.0->qiskit>=1.1.0->qiskit_aer) (6.1.1)\n",
            "Requirement already satisfied: setuptools in /usr/local/lib/python3.11/dist-packages (from pbr>=2.0.0->stevedore>=3.0.0->qiskit>=1.1.0->qiskit_aer) (75.2.0)\n",
            "Downloading qiskit_aer-0.17.1-cp311-cp311-manylinux_2_17_x86_64.manylinux2014_x86_64.whl (12.4 MB)\n",
            "\u001b[2K   \u001b[90m━━━━━━━━━━━━━━━━━━━━━━━━━━━━━━━━━━━━━━━━\u001b[0m \u001b[32m12.4/12.4 MB\u001b[0m \u001b[31m104.3 MB/s\u001b[0m eta \u001b[36m0:00:00\u001b[0m\n",
            "\u001b[?25hInstalling collected packages: qiskit_aer\n",
            "Successfully installed qiskit_aer-0.17.1\n"
          ]
        }
      ],
      "source": [
        "!pip install qiskit\n",
        "!pip install qiskit_aer"
      ]
    },
    {
      "cell_type": "code",
      "execution_count": null,
      "id": "645e26c2-d128-4418-b411-9405a378bd4c",
      "metadata": {
        "id": "645e26c2-d128-4418-b411-9405a378bd4c"
      },
      "outputs": [],
      "source": [
        "#Since N = 21 so we gotta prepare the quantum circuit adequate enough to accommodate the size related to that"
      ]
    },
    {
      "cell_type": "code",
      "source": [
        "def dec2bin(n, l):\n",
        "  out = \"\"\n",
        "  m = n\n",
        "  while m>0:\n",
        "    out = str(m%2) + out\n",
        "    m = int(m/2)\n",
        "  #print(len(out))\n",
        "  if l>len(out):\n",
        "    out = (l-len(out))*\"0\"+out\n",
        "  else: pass\n",
        "  return out\n",
        "dec2bin(3, 9)"
      ],
      "metadata": {
        "colab": {
          "base_uri": "https://localhost:8080/",
          "height": 36
        },
        "id": "H-tRAtOgh2JH",
        "outputId": "bb1d1051-ff0a-43ec-a929-42c0be621f34"
      },
      "id": "H-tRAtOgh2JH",
      "execution_count": 23,
      "outputs": [
        {
          "output_type": "execute_result",
          "data": {
            "text/plain": [
              "'000000011'"
            ],
            "application/vnd.google.colaboratory.intrinsic+json": {
              "type": "string"
            }
          },
          "metadata": {},
          "execution_count": 23
        }
      ]
    },
    {
      "cell_type": "code",
      "source": [
        "dec2bin(10, 9)"
      ],
      "metadata": {
        "colab": {
          "base_uri": "https://localhost:8080/",
          "height": 36
        },
        "id": "XRMqsyQAaNMj",
        "outputId": "d57d47b7-23fd-42e5-f4ab-a0821fe8c262"
      },
      "id": "XRMqsyQAaNMj",
      "execution_count": 24,
      "outputs": [
        {
          "output_type": "execute_result",
          "data": {
            "text/plain": [
              "'000001010'"
            ],
            "application/vnd.google.colaboratory.intrinsic+json": {
              "type": "string"
            }
          },
          "metadata": {},
          "execution_count": 24
        }
      ]
    },
    {
      "cell_type": "code",
      "source": [
        "dec2bin(225, 1), len(dec2bin(225, 1))"
      ],
      "metadata": {
        "colab": {
          "base_uri": "https://localhost:8080/"
        },
        "id": "Xl4JxNIsEaf3",
        "outputId": "ed2da612-61eb-49e1-e894-9bfc4ffbcd15"
      },
      "id": "Xl4JxNIsEaf3",
      "execution_count": 25,
      "outputs": [
        {
          "output_type": "execute_result",
          "data": {
            "text/plain": [
              "('11100001', 8)"
            ]
          },
          "metadata": {},
          "execution_count": 25
        }
      ]
    },
    {
      "cell_type": "code",
      "source": [
        "from qiskit.quantum_info import Statevector as Sv"
      ],
      "metadata": {
        "id": "hXB4PfH4RloT"
      },
      "id": "hXB4PfH4RloT",
      "execution_count": 24,
      "outputs": []
    },
    {
      "cell_type": "code",
      "source": [
        "def encode_c2q(data):\n",
        "    qc = qk.QuantumCircuit(len(data))\n",
        "    for i in range(len(data)):\n",
        "        if data[i]=='1':\n",
        "            qc.x(i)\n",
        "        else: pass\n",
        "    return Sv(qc)"
      ],
      "metadata": {
        "id": "SNrf8aCGQsRo"
      },
      "id": "SNrf8aCGQsRo",
      "execution_count": 25,
      "outputs": []
    },
    {
      "cell_type": "code",
      "source": [
        "#Maximum no. of qubit allocation"
      ],
      "metadata": {
        "id": "Brrk3lEoWVfD"
      },
      "id": "Brrk3lEoWVfD",
      "execution_count": null,
      "outputs": []
    },
    {
      "cell_type": "code",
      "source": [
        "#x = encode_c2q(dec2bin(323, 9))"
      ],
      "metadata": {
        "id": "CCx9IDxTRa8v"
      },
      "id": "CCx9IDxTRa8v",
      "execution_count": null,
      "outputs": []
    },
    {
      "cell_type": "code",
      "source": [
        "#First 9 qubits is reserved for x, later remaining is for g^x"
      ],
      "metadata": {
        "id": "BsyYSg6vhqpr"
      },
      "id": "BsyYSg6vhqpr",
      "execution_count": null,
      "outputs": []
    },
    {
      "cell_type": "code",
      "source": [
        "N"
      ],
      "metadata": {
        "colab": {
          "base_uri": "https://localhost:8080/"
        },
        "id": "SCMsm4e6Wj4G",
        "outputId": "cac076d6-9448-4442-9b0c-0cf1bc4924bc"
      },
      "id": "SCMsm4e6Wj4G",
      "execution_count": null,
      "outputs": [
        {
          "output_type": "execute_result",
          "data": {
            "text/plain": [
              "21"
            ]
          },
          "metadata": {},
          "execution_count": 29
        }
      ]
    },
    {
      "cell_type": "code",
      "source": [
        "dec2bin(N, 1)"
      ],
      "metadata": {
        "colab": {
          "base_uri": "https://localhost:8080/",
          "height": 36
        },
        "id": "Bi0qHGZ9A6nZ",
        "outputId": "26607e1f-ebc0-4e70-a567-9538322cb0a8"
      },
      "id": "Bi0qHGZ9A6nZ",
      "execution_count": null,
      "outputs": [
        {
          "output_type": "execute_result",
          "data": {
            "text/plain": [
              "'10101'"
            ],
            "application/vnd.google.colaboratory.intrinsic+json": {
              "type": "string"
            }
          },
          "metadata": {},
          "execution_count": 30
        }
      ]
    },
    {
      "cell_type": "code",
      "source": [
        "#Preparing the state in quantum superposition where x and f(x) are entangled w/ each other where f(x) = (g**x)%modN"
      ],
      "metadata": {
        "id": "A9ZWjhBUcZtN"
      },
      "id": "A9ZWjhBUcZtN",
      "execution_count": null,
      "outputs": []
    },
    {
      "cell_type": "code",
      "execution_count": 26,
      "id": "32cb1460-aa83-4c0f-a938-6317ab22acf4",
      "metadata": {
        "id": "32cb1460-aa83-4c0f-a938-6317ab22acf4"
      },
      "outputs": [],
      "source": [
        "import qiskit as qk"
      ]
    },
    {
      "cell_type": "code",
      "source": [
        "import numpy as np"
      ],
      "metadata": {
        "id": "goBj5b0DbXYL"
      },
      "id": "goBj5b0DbXYL",
      "execution_count": 27,
      "outputs": []
    },
    {
      "cell_type": "code",
      "source": [
        "st_vc = 0\n",
        "for i in range(N**2):\n",
        "  qc = qk.QuantumCircuit((8 + 4)) #, 9)\n",
        "  print(i)\n",
        "  qc.initialize(encode_c2q(dec2bin(i, 8)), range(0, 8))\n",
        "  #print(dec2bin((g**i)%N, 9))\n",
        "  #print(encode_c2q(dec2bin((g**i)%N, 9)))\n",
        "  qc.initialize(encode_c2q(dec2bin((g**i)%N, 4)), range(8, 12))\n",
        "  st_vc = st_vc + np.array(Sv(qc))\n",
        "#st_vc = st_vc/m.sqrt(N)"
      ],
      "metadata": {
        "colab": {
          "base_uri": "https://localhost:8080/"
        },
        "id": "1Sp_9f5LhqmJ",
        "outputId": "d5c59f0b-c693-4938-b48f-1443d6e3cccf"
      },
      "id": "1Sp_9f5LhqmJ",
      "execution_count": 28,
      "outputs": [
        {
          "output_type": "stream",
          "name": "stdout",
          "text": [
            "0\n",
            "1\n",
            "2\n",
            "3\n",
            "4\n",
            "5\n",
            "6\n",
            "7\n",
            "8\n",
            "9\n",
            "10\n",
            "11\n",
            "12\n",
            "13\n",
            "14\n",
            "15\n",
            "16\n",
            "17\n",
            "18\n",
            "19\n",
            "20\n",
            "21\n",
            "22\n",
            "23\n",
            "24\n",
            "25\n",
            "26\n",
            "27\n",
            "28\n",
            "29\n",
            "30\n",
            "31\n",
            "32\n",
            "33\n",
            "34\n",
            "35\n",
            "36\n",
            "37\n",
            "38\n",
            "39\n",
            "40\n",
            "41\n",
            "42\n",
            "43\n",
            "44\n",
            "45\n",
            "46\n",
            "47\n",
            "48\n",
            "49\n",
            "50\n",
            "51\n",
            "52\n",
            "53\n",
            "54\n",
            "55\n",
            "56\n",
            "57\n",
            "58\n",
            "59\n",
            "60\n",
            "61\n",
            "62\n",
            "63\n",
            "64\n",
            "65\n",
            "66\n",
            "67\n",
            "68\n",
            "69\n",
            "70\n",
            "71\n",
            "72\n",
            "73\n",
            "74\n",
            "75\n",
            "76\n",
            "77\n",
            "78\n",
            "79\n",
            "80\n",
            "81\n",
            "82\n",
            "83\n",
            "84\n",
            "85\n",
            "86\n",
            "87\n",
            "88\n",
            "89\n",
            "90\n",
            "91\n",
            "92\n",
            "93\n",
            "94\n",
            "95\n",
            "96\n",
            "97\n",
            "98\n",
            "99\n",
            "100\n",
            "101\n",
            "102\n",
            "103\n",
            "104\n",
            "105\n",
            "106\n",
            "107\n",
            "108\n",
            "109\n",
            "110\n",
            "111\n",
            "112\n",
            "113\n",
            "114\n",
            "115\n",
            "116\n",
            "117\n",
            "118\n",
            "119\n",
            "120\n",
            "121\n",
            "122\n",
            "123\n",
            "124\n",
            "125\n",
            "126\n",
            "127\n",
            "128\n",
            "129\n",
            "130\n",
            "131\n",
            "132\n",
            "133\n",
            "134\n",
            "135\n",
            "136\n",
            "137\n",
            "138\n",
            "139\n",
            "140\n",
            "141\n",
            "142\n",
            "143\n",
            "144\n",
            "145\n",
            "146\n",
            "147\n",
            "148\n",
            "149\n",
            "150\n",
            "151\n",
            "152\n",
            "153\n",
            "154\n",
            "155\n",
            "156\n",
            "157\n",
            "158\n",
            "159\n",
            "160\n",
            "161\n",
            "162\n",
            "163\n",
            "164\n",
            "165\n",
            "166\n",
            "167\n",
            "168\n",
            "169\n",
            "170\n",
            "171\n",
            "172\n",
            "173\n",
            "174\n",
            "175\n",
            "176\n",
            "177\n",
            "178\n",
            "179\n",
            "180\n",
            "181\n",
            "182\n",
            "183\n",
            "184\n",
            "185\n",
            "186\n",
            "187\n",
            "188\n",
            "189\n",
            "190\n",
            "191\n",
            "192\n",
            "193\n",
            "194\n",
            "195\n",
            "196\n",
            "197\n",
            "198\n",
            "199\n",
            "200\n",
            "201\n",
            "202\n",
            "203\n",
            "204\n",
            "205\n",
            "206\n",
            "207\n",
            "208\n",
            "209\n",
            "210\n",
            "211\n",
            "212\n",
            "213\n",
            "214\n",
            "215\n",
            "216\n",
            "217\n",
            "218\n",
            "219\n",
            "220\n",
            "221\n",
            "222\n",
            "223\n",
            "224\n"
          ]
        }
      ]
    },
    {
      "cell_type": "code",
      "source": [
        "np.dot(st_vc, st_vc)"
      ],
      "metadata": {
        "colab": {
          "base_uri": "https://localhost:8080/"
        },
        "id": "xT8tUhukhqjF",
        "outputId": "96c2d92b-790e-433b-82f8-7abcad7647e7"
      },
      "id": "xT8tUhukhqjF",
      "execution_count": 28,
      "outputs": [
        {
          "output_type": "execute_result",
          "data": {
            "text/plain": [
              "np.complex128(225+0j)"
            ]
          },
          "metadata": {},
          "execution_count": 28
        }
      ]
    },
    {
      "cell_type": "code",
      "source": [
        "#Measuring the state of function so the state collapses in a favourable way"
      ],
      "metadata": {
        "id": "iLJHqqYKb-2M"
      },
      "id": "iLJHqqYKb-2M",
      "execution_count": null,
      "outputs": []
    },
    {
      "cell_type": "code",
      "source": [
        "'''!pip uninstall qiskit qiskit-aer qiskit-ibmq-provider qiskit-terra -y\n",
        "!pip uninstall qiskit==0.46.0\n",
        "!pip uninstall qiskit_aer==0.46.0'''"
      ],
      "metadata": {
        "colab": {
          "base_uri": "https://localhost:8080/"
        },
        "id": "K2Aq13d2Foe6",
        "outputId": "a8587106-6a56-40f3-bbd9-8aef88bbb692"
      },
      "id": "K2Aq13d2Foe6",
      "execution_count": null,
      "outputs": [
        {
          "output_type": "stream",
          "name": "stdout",
          "text": [
            "\u001b[33mWARNING: Skipping qiskit as it is not installed.\u001b[0m\u001b[33m\n",
            "\u001b[0m\u001b[33mWARNING: Skipping qiskit-aer as it is not installed.\u001b[0m\u001b[33m\n",
            "\u001b[0m\u001b[33mWARNING: Skipping qiskit-ibmq-provider as it is not installed.\u001b[0m\u001b[33m\n",
            "\u001b[0m\u001b[33mWARNING: Skipping qiskit-terra as it is not installed.\u001b[0m\u001b[33m\n",
            "\u001b[0m\u001b[33mWARNING: Skipping qiskit as it is not installed.\u001b[0m\u001b[33m\n",
            "\u001b[0m\u001b[33mWARNING: Skipping qiskit_aer as it is not installed.\u001b[0m\u001b[33m\n",
            "\u001b[0m"
          ]
        }
      ]
    },
    {
      "cell_type": "code",
      "source": [
        "#pip install qiskit_aer"
      ],
      "metadata": {
        "colab": {
          "base_uri": "https://localhost:8080/",
          "height": 584
        },
        "id": "MsxW1lF-MAEA",
        "outputId": "2d7399b3-78af-41f4-d69d-aebd1a6f3aef"
      },
      "id": "MsxW1lF-MAEA",
      "execution_count": null,
      "outputs": [
        {
          "output_type": "stream",
          "name": "stdout",
          "text": [
            "Collecting qiskit_aer\n",
            "  Using cached qiskit_aer-0.17.1-cp311-cp311-manylinux_2_17_x86_64.manylinux2014_x86_64.whl.metadata (8.3 kB)\n",
            "Collecting qiskit>=1.1.0 (from qiskit_aer)\n",
            "  Using cached qiskit-2.0.2-cp39-abi3-manylinux_2_17_x86_64.manylinux2014_x86_64.whl.metadata (12 kB)\n",
            "Requirement already satisfied: numpy>=1.16.3 in /usr/local/lib/python3.11/dist-packages (from qiskit_aer) (1.26.4)\n",
            "Requirement already satisfied: scipy>=1.0 in /usr/local/lib/python3.11/dist-packages (from qiskit_aer) (1.15.3)\n",
            "Requirement already satisfied: psutil>=5 in /usr/local/lib/python3.11/dist-packages (from qiskit_aer) (5.9.5)\n",
            "Requirement already satisfied: python-dateutil>=2.8.0 in /usr/local/lib/python3.11/dist-packages (from qiskit_aer) (2.9.0.post0)\n",
            "Requirement already satisfied: six>=1.5 in /usr/local/lib/python3.11/dist-packages (from python-dateutil>=2.8.0->qiskit_aer) (1.17.0)\n",
            "Requirement already satisfied: rustworkx>=0.15.0 in /usr/local/lib/python3.11/dist-packages (from qiskit>=1.1.0->qiskit_aer) (0.16.0)\n",
            "Requirement already satisfied: sympy>=1.3 in /usr/local/lib/python3.11/dist-packages (from qiskit>=1.1.0->qiskit_aer) (1.13.1)\n",
            "Requirement already satisfied: dill>=0.3 in /usr/local/lib/python3.11/dist-packages (from qiskit>=1.1.0->qiskit_aer) (0.3.7)\n",
            "Requirement already satisfied: stevedore>=3.0.0 in /usr/local/lib/python3.11/dist-packages (from qiskit>=1.1.0->qiskit_aer) (5.4.1)\n",
            "Requirement already satisfied: typing-extensions in /usr/local/lib/python3.11/dist-packages (from qiskit>=1.1.0->qiskit_aer) (4.14.0)\n",
            "Requirement already satisfied: symengine<0.14,>=0.11 in /usr/local/lib/python3.11/dist-packages (from qiskit>=1.1.0->qiskit_aer) (0.13.0)\n",
            "Requirement already satisfied: pbr>=2.0.0 in /usr/local/lib/python3.11/dist-packages (from stevedore>=3.0.0->qiskit>=1.1.0->qiskit_aer) (6.1.1)\n",
            "Requirement already satisfied: mpmath<1.4,>=1.1.0 in /usr/local/lib/python3.11/dist-packages (from sympy>=1.3->qiskit>=1.1.0->qiskit_aer) (1.3.0)\n",
            "Requirement already satisfied: setuptools in /usr/local/lib/python3.11/dist-packages (from pbr>=2.0.0->stevedore>=3.0.0->qiskit>=1.1.0->qiskit_aer) (75.2.0)\n",
            "Using cached qiskit_aer-0.17.1-cp311-cp311-manylinux_2_17_x86_64.manylinux2014_x86_64.whl (12.4 MB)\n",
            "Using cached qiskit-2.0.2-cp39-abi3-manylinux_2_17_x86_64.manylinux2014_x86_64.whl (6.5 MB)\n",
            "Installing collected packages: qiskit, qiskit_aer\n",
            "  Attempting uninstall: qiskit\n",
            "    Found existing installation: qiskit 0.46.0\n",
            "    Uninstalling qiskit-0.46.0:\n",
            "      Successfully uninstalled qiskit-0.46.0\n",
            "Successfully installed qiskit-2.0.2 qiskit_aer-0.17.1\n"
          ]
        },
        {
          "output_type": "display_data",
          "data": {
            "application/vnd.colab-display-data+json": {
              "pip_warning": {
                "packages": [
                  "qiskit"
                ]
              },
              "id": "952293f7efed45099237799a0c06d922"
            }
          },
          "metadata": {}
        }
      ]
    },
    {
      "cell_type": "code",
      "source": [],
      "metadata": {
        "id": "KGE7gx9l2H9f"
      },
      "id": "KGE7gx9l2H9f",
      "execution_count": null,
      "outputs": []
    },
    {
      "cell_type": "code",
      "source": [
        "from qiskit_aer import AerSimulator as AS"
      ],
      "metadata": {
        "id": "7eaOurW22H6B"
      },
      "id": "7eaOurW22H6B",
      "execution_count": 29,
      "outputs": []
    },
    {
      "cell_type": "code",
      "source": [
        "qc = qk.QuantumCircuit(8+4, 4)\n",
        "qc.initialize(st_vc/m.sqrt(225))\n",
        "for i in range(4):\n",
        "  qc.measure(8+i, i)\n",
        "qc.save_statevector('psi_part_meas')\n",
        "sim = AS() #device = 'GPU')\n",
        "job = sim.run(qc)\n",
        "meas_st = job.result().data()['psi_part_meas']\n",
        "'''sim = AS()\n",
        "res = sim.run([qc], shots=1).result()\n",
        "counts = res.get_counts()\n",
        "print(\"Counts\", counts, \"\\nState-vector\", res.get_statevector())'''\n",
        "print(\"Saved_vec\", meas_st)"
      ],
      "metadata": {
        "colab": {
          "base_uri": "https://localhost:8080/"
        },
        "id": "tXWr_u8m2Ql-",
        "outputId": "4ff7de7b-0084-4ac3-d8a8-ee7dc1dda5b7"
      },
      "id": "tXWr_u8m2Ql-",
      "execution_count": 42,
      "outputs": [
        {
          "output_type": "stream",
          "name": "stdout",
          "text": [
            "Saved_vec Statevector([0.+0.j, 0.+0.j, 0.+0.j, ..., 0.+0.j, 0.+0.j, 0.+0.j],\n",
            "            dims=(2, 2, 2, 2, 2, 2, 2, 2, 2, 2, 2, 2))\n"
          ]
        }
      ]
    },
    {
      "cell_type": "code",
      "source": [
        "saved_st.draw(output='latex')"
      ],
      "metadata": {
        "colab": {
          "base_uri": "https://localhost:8080/",
          "height": 141
        },
        "id": "D56GzVNIEumP",
        "outputId": "33d429c1-b41f-48f7-d15e-74eb87958f0f"
      },
      "id": "D56GzVNIEumP",
      "execution_count": 41,
      "outputs": [
        {
          "output_type": "error",
          "ename": "AttributeError",
          "evalue": "'InstructionSet' object has no attribute 'draw'",
          "traceback": [
            "\u001b[0;31m---------------------------------------------------------------------------\u001b[0m",
            "\u001b[0;31mAttributeError\u001b[0m                            Traceback (most recent call last)",
            "\u001b[0;32m/tmp/ipython-input-41-4172367660.py\u001b[0m in \u001b[0;36m<cell line: 0>\u001b[0;34m()\u001b[0m\n\u001b[0;32m----> 1\u001b[0;31m \u001b[0msaved_st\u001b[0m\u001b[0;34m.\u001b[0m\u001b[0mdraw\u001b[0m\u001b[0;34m(\u001b[0m\u001b[0moutput\u001b[0m\u001b[0;34m=\u001b[0m\u001b[0;34m'latex'\u001b[0m\u001b[0;34m)\u001b[0m\u001b[0;34m\u001b[0m\u001b[0;34m\u001b[0m\u001b[0m\n\u001b[0m",
            "\u001b[0;31mAttributeError\u001b[0m: 'InstructionSet' object has no attribute 'draw'"
          ]
        }
      ]
    },
    {
      "cell_type": "code",
      "source": [],
      "metadata": {
        "id": "Yv5pqOUH2H3N"
      },
      "id": "Yv5pqOUH2H3N",
      "execution_count": null,
      "outputs": []
    },
    {
      "cell_type": "code",
      "source": [
        "'''import qiskit as qk\n",
        "from qiskit_aer import Aer\n",
        "#from qiskit import execute #[DOESN'T WORK ANYMORE]'''\n",
        "#from qiskit.quantum_info import DensityMatrix as DM\n",
        "#from qiskit.quantum_info import partial_trace as pt"
      ],
      "metadata": {
        "id": "idBQ5UKmiPvf"
      },
      "id": "idBQ5UKmiPvf",
      "execution_count": 28,
      "outputs": []
    },
    {
      "cell_type": "code",
      "source": [
        "'''qc = qk.QuantumCircuit(8+4, 4)\n",
        "qc.initialize(st_vc/m.sqrt(225))\n",
        "rho_meas = pt(state = DM(qc), qargs=[8, 9, 10, 11])\n",
        "#for i in range(9):\n",
        "  qc.measure(9+i, i)\n",
        "#qc.draw()\n",
        "sim = Aer.get_backend('statevector_simulator', shots=1)\n",
        "#res = sim.run(qc).result()\n",
        "state = rho_meas.to_statevector()\n",
        "print(\"State\", state)'''"
      ],
      "metadata": {
        "id": "lZnWMnA2b-uE"
      },
      "id": "lZnWMnA2b-uE",
      "execution_count": null,
      "outputs": []
    },
    {
      "cell_type": "code",
      "source": [
        "len(state), len(state.dims())"
      ],
      "metadata": {
        "colab": {
          "base_uri": "https://localhost:8080/"
        },
        "id": "Vem3XXu3OQHe",
        "outputId": "62756681-db9a-4118-cb5a-5995de08b8cf"
      },
      "id": "Vem3XXu3OQHe",
      "execution_count": null,
      "outputs": [
        {
          "output_type": "execute_result",
          "data": {
            "text/plain": [
              "(32, 5)"
            ]
          },
          "metadata": {},
          "execution_count": 37
        }
      ]
    },
    {
      "cell_type": "code",
      "source": [
        "'''qc = qk.QuantumCircuit(1, 1)\n",
        "qc.h(0)#qc.initialize(np.array[1, -1]/(m.sqrt(2)), 0)\n",
        "print(sim.run(qc, shots=1).result().get_statevector(qc))'''"
      ],
      "metadata": {
        "colab": {
          "base_uri": "https://localhost:8080/"
        },
        "id": "sR1zEXwXb-lA",
        "outputId": "1b08fc44-486b-458b-8605-e8357dd59695"
      },
      "id": "sR1zEXwXb-lA",
      "execution_count": null,
      "outputs": [
        {
          "output_type": "stream",
          "name": "stdout",
          "text": [
            "Statevector([0.70710678+0.j, 0.70710678+0.j],\n",
            "            dims=(2,))\n"
          ]
        }
      ]
    },
    {
      "cell_type": "code",
      "source": [],
      "metadata": {
        "id": "bjo58SmFYvrV"
      },
      "id": "bjo58SmFYvrV",
      "execution_count": null,
      "outputs": []
    },
    {
      "cell_type": "code",
      "source": [
        "#Finally, you got f(x) qubit part of state measured (precisely, discarded off) now performing Quantum Fourier Transform (QFT)..."
      ],
      "metadata": {
        "id": "GxgVUXurYvn_"
      },
      "id": "GxgVUXurYvn_",
      "execution_count": null,
      "outputs": []
    },
    {
      "cell_type": "code",
      "source": [
        "from qiskit.quantum_info.operators import Operator as Op"
      ],
      "metadata": {
        "id": "Mi2yJvaXXheH"
      },
      "id": "Mi2yJvaXXheH",
      "execution_count": 43,
      "outputs": []
    },
    {
      "cell_type": "code",
      "source": [
        "np.array([[1, 0], [0, np.exp(2j*np.pi/4)]], dtype=complex)"
      ],
      "metadata": {
        "colab": {
          "base_uri": "https://localhost:8080/"
        },
        "id": "XN1h6_3cYXUn",
        "outputId": "480402c0-2828-4683-ea01-3fdd5d5e6443"
      },
      "id": "XN1h6_3cYXUn",
      "execution_count": null,
      "outputs": [
        {
          "output_type": "execute_result",
          "data": {
            "text/plain": [
              "array([[1.000000e+00+0.j, 0.000000e+00+0.j],\n",
              "       [0.000000e+00+0.j, 6.123234e-17+1.j]])"
            ]
          },
          "metadata": {},
          "execution_count": 93
        }
      ]
    },
    {
      "cell_type": "code",
      "source": [
        "qc = qk.QuantumCircuit(2)\n",
        "qc.x(1)\n",
        "qc.unitary(np.array([[1, 0], [0, np.exp(2j*np.pi/4)]], dtype=complex), [0, 1])\n",
        "Sv(qc)"
      ],
      "metadata": {
        "colab": {
          "base_uri": "https://localhost:8080/"
        },
        "id": "9voIJnXrbsOZ",
        "outputId": "f98e5faa-ab76-4f45-9557-cf32ce516de6"
      },
      "id": "9voIJnXrbsOZ",
      "execution_count": null,
      "outputs": [
        {
          "output_type": "stream",
          "name": "stdout",
          "text": [
            "Statevector([0.000000e+00+0.j, 0.000000e+00+0.j, 6.123234e-17+1.j,\n",
            "             0.000000e+00+0.j],\n",
            "            dims=(2, 2))\n"
          ]
        }
      ]
    },
    {
      "cell_type": "code",
      "source": [
        "def QFT(state):\n",
        "  n = len(state.dims())\n",
        "  qc = qk.QuantumCircuit(n)\n",
        "  qc.initialize(state)\n",
        "  for i in range(n):\n",
        "    qc.h(i)\n",
        "    for j in range(i, n-1): #(0,n-i-1):\n",
        "      qc.unitary(np.array([[1, 0], [0, np.exp(2j*np.pi/(2**(j-i+1)))]], dtype=complex), [j+1, i])\n",
        "      #qc.crx(np.pi/2, j+1, i) #n-j-1, i)\n",
        "  return qc"
      ],
      "metadata": {
        "id": "9YVBXa5nHF1L"
      },
      "id": "9YVBXa5nHF1L",
      "execution_count": 44,
      "outputs": []
    },
    {
      "cell_type": "code",
      "source": [
        "Qft_st = QFT(meas_st)\n",
        "print(\"Quantum Fourier applied state\", Sv(Qft_st))"
      ],
      "metadata": {
        "colab": {
          "base_uri": "https://localhost:8080/"
        },
        "id": "dnblfareGhhA",
        "outputId": "07ec74fb-5b00-423e-d2c0-073acb45abb3"
      },
      "id": "dnblfareGhhA",
      "execution_count": 45,
      "outputs": [
        {
          "output_type": "stream",
          "name": "stdout",
          "text": [
            "Quantum Fourier applied state Statevector([-1.12227411e-02-1.00469622e-02j,\n",
            "              1.12535119e-02+1.00124841e-02j,\n",
            "              6.05911617e-03-7.50704424e-02j, ...,\n",
            "              8.23650776e-05-9.03174422e-05j,\n",
            "              1.16016039e-04+6.00059529e-04j,\n",
            "             -8.18093496e-05+9.08211246e-05j],\n",
            "            dims=(2, 2, 2, 2, 2, 2, 2, 2, 2, 2, 2, 2))\n"
          ]
        }
      ]
    },
    {
      "cell_type": "code",
      "source": [
        "Qft_st = QFT(state)\n",
        "print(Sv(Qft_st))"
      ],
      "metadata": {
        "colab": {
          "base_uri": "https://localhost:8080/"
        },
        "id": "wCIlp3pHHFvC",
        "outputId": "55e418de-a274-4101-d6bf-58aa7e092de0"
      },
      "id": "wCIlp3pHHFvC",
      "execution_count": null,
      "outputs": [
        {
          "output_type": "stream",
          "name": "stdout",
          "text": [
            "Statevector([ 0.06667927-0.12237083j,  0.01477432-0.13857296j,\n",
            "             -0.09006754-0.3067371j , -0.20059477-0.15526219j,\n",
            "             -0.01792079-0.14578548j, -0.07234634-0.12783023j,\n",
            "             -0.28881631-0.21278482j, -0.25460212-0.08606232j,\n",
            "             -0.0741023 +0.01792079j, -0.06160361+0.04491438j,\n",
            "             -0.1114095 +0.18744099j, -0.0311984 +0.12214888j,\n",
            "             -0.05068766+0.06667927j, -0.02131224+0.08100094j,\n",
            "              0.06199543+0.15467412j,  0.02280896+0.11917563j,\n",
            "             -0.01984998+0.12237083j,  0.0284903 +0.12065217j,\n",
            "              0.12318085+0.27362379j,  0.21851556+0.11199757j,\n",
            "              0.01792079+0.09895619j,  0.05442555+0.08456561j,\n",
            "              0.255703  +0.17967151j,  0.2113375 +0.06814153j,\n",
            "              0.02727301-0.01792079j,  0.01833899-0.02699358j,\n",
            "              0.07829619-0.15432768j,  0.0132776 -0.07888426j,\n",
            "              0.05068766-0.01984998j,  0.03923303-0.03773632j,\n",
            "             -0.02888213-0.12156082j,  0.02045567-0.10125484j],\n",
            "            dims=(2, 2, 2, 2, 2))\n"
          ]
        }
      ]
    },
    {
      "cell_type": "code",
      "source": [
        "from qiskit_aer.primitives import Estimator as Est"
      ],
      "metadata": {
        "id": "yj514ag_Yvli"
      },
      "id": "yj514ag_Yvli",
      "execution_count": 46,
      "outputs": []
    },
    {
      "cell_type": "code",
      "source": [
        "est = Est()\n",
        "job = est.run([Qft_st], ['Z'*(12)])\n",
        "fac = job.result().values\n",
        "1/fac"
      ],
      "metadata": {
        "colab": {
          "base_uri": "https://localhost:8080/"
        },
        "id": "dNDCnhOsYvin",
        "outputId": "cfae0fd6-1f91-4e57-d2b1-ccbe2b6398ea"
      },
      "id": "dNDCnhOsYvin",
      "execution_count": 58,
      "outputs": [
        {
          "output_type": "execute_result",
          "data": {
            "text/plain": [
              "array([32.])"
            ]
          },
          "metadata": {},
          "execution_count": 58
        }
      ]
    },
    {
      "cell_type": "code",
      "source": [
        "'''From repeated observation of occurrences like 256, 128, 64, 32 and performing\n",
        "some hit & try on certain numbers here it can be inferred that period\n",
        "is some factor which related to these sequences of numbers i.e. some power of 4'''"
      ],
      "metadata": {
        "id": "RavQu_0tgzpa"
      },
      "id": "RavQu_0tgzpa",
      "execution_count": null,
      "outputs": []
    },
    {
      "cell_type": "code",
      "source": [
        "m.gcd(int(g**(4/2)-1), N), m.gcd(int(g**(4/2)+1), N)"
      ],
      "metadata": {
        "colab": {
          "base_uri": "https://localhost:8080/"
        },
        "id": "uWytvM4JgwAo",
        "outputId": "6b45e53c-2f85-4512-f9a1-51bba04a3c12"
      },
      "id": "uWytvM4JgwAo",
      "execution_count": 59,
      "outputs": [
        {
          "output_type": "execute_result",
          "data": {
            "text/plain": [
              "(3, 5)"
            ]
          },
          "metadata": {},
          "execution_count": 59
        }
      ]
    },
    {
      "cell_type": "code",
      "source": [
        "#Therefore, we got the factors from which the N was created!"
      ],
      "metadata": {
        "id": "tLCI0oVBg4gC"
      },
      "id": "tLCI0oVBg4gC",
      "execution_count": null,
      "outputs": []
    },
    {
      "cell_type": "code",
      "source": [],
      "metadata": {
        "id": "VykJxnICii3b"
      },
      "id": "VykJxnICii3b",
      "execution_count": null,
      "outputs": []
    },
    {
      "cell_type": "code",
      "source": [],
      "metadata": {
        "id": "yrXAbomNiqIc"
      },
      "id": "yrXAbomNiqIc",
      "execution_count": null,
      "outputs": []
    }
  ],
  "metadata": {
    "kernelspec": {
      "display_name": "Python 3",
      "name": "python3"
    },
    "language_info": {
      "codemirror_mode": {
        "name": "ipython",
        "version": 3
      },
      "file_extension": ".py",
      "mimetype": "text/x-python",
      "name": "python",
      "nbconvert_exporter": "python",
      "pygments_lexer": "ipython3",
      "version": "3.8.10"
    },
    "colab": {
      "provenance": []
    }
  },
  "nbformat": 4,
  "nbformat_minor": 5
}
