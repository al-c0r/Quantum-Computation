{
  "nbformat": 4,
  "nbformat_minor": 0,
  "metadata": {
    "colab": {
      "provenance": []
    },
    "kernelspec": {
      "name": "python3",
      "display_name": "Python 3"
    },
    "language_info": {
      "name": "python"
    }
  },
  "cells": [
    {
      "cell_type": "code",
      "execution_count": null,
      "metadata": {
        "id": "74fbtx3odomG"
      },
      "outputs": [],
      "source": [
        "'''In this algorithm I'm going to demonstrate a\n",
        "symmetric key encryption by encoding it as Quantum States,\n",
        "called as Quantum - One Time Pass (Q-OTP)'''"
      ]
    },
    {
      "cell_type": "code",
      "source": [
        "#Plain text\n",
        "P = \"Th\" #is algorithm is made using Qiskit!\""
      ],
      "metadata": {
        "id": "VjkXEIOpeLZ0"
      },
      "execution_count": null,
      "outputs": []
    },
    {
      "cell_type": "code",
      "source": [
        "'''The plain text above has kept small because when we\n",
        "binarise its ASCII value it's size factored with 8 and\n",
        "due to limitation in RAM, its difficult to accommodate\n",
        "higher no. of characters'''"
      ],
      "metadata": {
        "id": "5rOKNsr6IBC7"
      },
      "execution_count": null,
      "outputs": []
    },
    {
      "cell_type": "code",
      "source": [
        "def dec2bin(n, l):\n",
        "  out = \"\"\n",
        "  m = n\n",
        "  while m>0:\n",
        "    out = str(m%2) + out\n",
        "    m = int(m/2)\n",
        "  #print(len(out))\n",
        "  if l>len(out):\n",
        "    out = (l-len(out))*\"0\"+out\n",
        "  else: pass\n",
        "  return out\n",
        "dec2bin(3, 8)"
      ],
      "metadata": {
        "colab": {
          "base_uri": "https://localhost:8080/",
          "height": 36
        },
        "id": "4D-lMU0weZSA",
        "outputId": "e6b5363c-bb39-4530-8cc3-b1ac46ff0521"
      },
      "execution_count": null,
      "outputs": [
        {
          "output_type": "execute_result",
          "data": {
            "text/plain": [
              "'00000011'"
            ],
            "application/vnd.google.colaboratory.intrinsic+json": {
              "type": "string"
            }
          },
          "metadata": {},
          "execution_count": 56
        }
      ]
    },
    {
      "cell_type": "code",
      "source": [
        "dec2bin(6, 8)"
      ],
      "metadata": {
        "colab": {
          "base_uri": "https://localhost:8080/",
          "height": 36
        },
        "id": "55U3AmH01adk",
        "outputId": "9a00f195-f00f-40e5-8010-b3d2d165b28d"
      },
      "execution_count": null,
      "outputs": [
        {
          "output_type": "execute_result",
          "data": {
            "text/plain": [
              "'00000110'"
            ],
            "application/vnd.google.colaboratory.intrinsic+json": {
              "type": "string"
            }
          },
          "metadata": {},
          "execution_count": 59
        }
      ]
    },
    {
      "cell_type": "code",
      "source": [
        "dec2bin(ord(P[0]), 8), len(P)"
      ],
      "metadata": {
        "colab": {
          "base_uri": "https://localhost:8080/",
          "height": 141
        },
        "id": "socNOTOMgikw",
        "outputId": "12aba204-096f-4dea-e6b6-74bdbf2b44c5"
      },
      "execution_count": null,
      "outputs": [
        {
          "output_type": "error",
          "ename": "TypeError",
          "evalue": "ord() expected a character, but string of length 2 found",
          "traceback": [
            "\u001b[0;31m---------------------------------------------------------------------------\u001b[0m",
            "\u001b[0;31mTypeError\u001b[0m                                 Traceback (most recent call last)",
            "\u001b[0;32m<ipython-input-10-1332443063>\u001b[0m in \u001b[0;36m<cell line: 0>\u001b[0;34m()\u001b[0m\n\u001b[0;32m----> 1\u001b[0;31m \u001b[0mdec2bin\u001b[0m\u001b[0;34m(\u001b[0m\u001b[0mord\u001b[0m\u001b[0;34m(\u001b[0m\u001b[0mP\u001b[0m\u001b[0;34m)\u001b[0m\u001b[0;34m,\u001b[0m \u001b[0;36m8\u001b[0m\u001b[0;34m)\u001b[0m\u001b[0;34m,\u001b[0m \u001b[0mlen\u001b[0m\u001b[0;34m(\u001b[0m\u001b[0mP\u001b[0m\u001b[0;34m)\u001b[0m\u001b[0;34m\u001b[0m\u001b[0;34m\u001b[0m\u001b[0m\n\u001b[0m",
            "\u001b[0;31mTypeError\u001b[0m: ord() expected a character, but string of length 2 found"
          ]
        }
      ]
    },
    {
      "cell_type": "code",
      "source": [
        "#Noting down the ASCII Registery in binary\n",
        "Asc_reg = \"\"\n",
        "for i in range(len(P)):\n",
        "  #print(i)\n",
        "  Asc_reg = Asc_reg + dec2bin(ord(P[i]), 8)\n",
        "  #print(Asc_r)\n",
        "len(Asc_reg)"
      ],
      "metadata": {
        "colab": {
          "base_uri": "https://localhost:8080/"
        },
        "id": "3ivActlZfUyJ",
        "outputId": "6340c87c-eb5f-47d6-f781-0ad216935a12"
      },
      "execution_count": null,
      "outputs": [
        {
          "output_type": "execute_result",
          "data": {
            "text/plain": [
              "16"
            ]
          },
          "metadata": {},
          "execution_count": 63
        }
      ]
    },
    {
      "cell_type": "code",
      "source": [],
      "metadata": {
        "id": "VWGpaOK-fUuy"
      },
      "execution_count": null,
      "outputs": []
    },
    {
      "cell_type": "code",
      "source": [
        "!pip install qiskit\n",
        "!pip install qiskit_aer"
      ],
      "metadata": {
        "colab": {
          "base_uri": "https://localhost:8080/"
        },
        "id": "FgAasiTFiaQd",
        "outputId": "37869c52-fe54-4a97-e1da-d7ef8ac29950"
      },
      "execution_count": null,
      "outputs": [
        {
          "output_type": "stream",
          "name": "stdout",
          "text": [
            "Collecting qiskit_aer\n",
            "  Downloading qiskit_aer-0.17.1-cp311-cp311-manylinux_2_17_x86_64.manylinux2014_x86_64.whl.metadata (8.3 kB)\n",
            "Requirement already satisfied: qiskit>=1.1.0 in /usr/local/lib/python3.11/dist-packages (from qiskit_aer) (2.0.3)\n",
            "Requirement already satisfied: numpy>=1.16.3 in /usr/local/lib/python3.11/dist-packages (from qiskit_aer) (2.0.2)\n",
            "Requirement already satisfied: scipy>=1.0 in /usr/local/lib/python3.11/dist-packages (from qiskit_aer) (1.15.3)\n",
            "Requirement already satisfied: psutil>=5 in /usr/local/lib/python3.11/dist-packages (from qiskit_aer) (5.9.5)\n",
            "Requirement already satisfied: python-dateutil>=2.8.0 in /usr/local/lib/python3.11/dist-packages (from qiskit_aer) (2.9.0.post0)\n",
            "Requirement already satisfied: six>=1.5 in /usr/local/lib/python3.11/dist-packages (from python-dateutil>=2.8.0->qiskit_aer) (1.17.0)\n",
            "Requirement already satisfied: rustworkx>=0.15.0 in /usr/local/lib/python3.11/dist-packages (from qiskit>=1.1.0->qiskit_aer) (0.16.0)\n",
            "Requirement already satisfied: sympy>=1.3 in /usr/local/lib/python3.11/dist-packages (from qiskit>=1.1.0->qiskit_aer) (1.13.1)\n",
            "Requirement already satisfied: dill>=0.3 in /usr/local/lib/python3.11/dist-packages (from qiskit>=1.1.0->qiskit_aer) (0.3.7)\n",
            "Requirement already satisfied: stevedore>=3.0.0 in /usr/local/lib/python3.11/dist-packages (from qiskit>=1.1.0->qiskit_aer) (5.4.1)\n",
            "Requirement already satisfied: typing-extensions in /usr/local/lib/python3.11/dist-packages (from qiskit>=1.1.0->qiskit_aer) (4.14.0)\n",
            "Requirement already satisfied: symengine<0.14,>=0.11 in /usr/local/lib/python3.11/dist-packages (from qiskit>=1.1.0->qiskit_aer) (0.13.0)\n",
            "Requirement already satisfied: pbr>=2.0.0 in /usr/local/lib/python3.11/dist-packages (from stevedore>=3.0.0->qiskit>=1.1.0->qiskit_aer) (6.1.1)\n",
            "Requirement already satisfied: mpmath<1.4,>=1.1.0 in /usr/local/lib/python3.11/dist-packages (from sympy>=1.3->qiskit>=1.1.0->qiskit_aer) (1.3.0)\n",
            "Requirement already satisfied: setuptools in /usr/local/lib/python3.11/dist-packages (from pbr>=2.0.0->stevedore>=3.0.0->qiskit>=1.1.0->qiskit_aer) (75.2.0)\n",
            "Downloading qiskit_aer-0.17.1-cp311-cp311-manylinux_2_17_x86_64.manylinux2014_x86_64.whl (12.4 MB)\n",
            "\u001b[2K   \u001b[90m━━━━━━━━━━━━━━━━━━━━━━━━━━━━━━━━━━━━━━━━\u001b[0m \u001b[32m12.4/12.4 MB\u001b[0m \u001b[31m86.3 MB/s\u001b[0m eta \u001b[36m0:00:00\u001b[0m\n",
            "\u001b[?25hInstalling collected packages: qiskit_aer\n",
            "Successfully installed qiskit_aer-0.17.1\n"
          ]
        }
      ]
    },
    {
      "cell_type": "code",
      "source": [
        "import qiskit as qk"
      ],
      "metadata": {
        "id": "rR2Pk-xOhuOw"
      },
      "execution_count": null,
      "outputs": []
    },
    {
      "cell_type": "code",
      "source": [],
      "metadata": {
        "id": "YYE7r-87h-l2"
      },
      "execution_count": null,
      "outputs": []
    },
    {
      "cell_type": "code",
      "source": [
        "#Setting up the Quantum circuit to encode the info in q-states"
      ],
      "metadata": {
        "id": "-KWglY_zhfb9"
      },
      "execution_count": null,
      "outputs": []
    },
    {
      "cell_type": "code",
      "source": [
        "qc = qk.QuantumCircuit(len(Asc_reg)) #, len(Asc_reg))\n",
        "for i in range(len(Asc_reg)):\n",
        "  if Asc_reg[i]=='1':\n",
        "    qc.x(i)\n",
        "#qc.measure_all()"
      ],
      "metadata": {
        "id": "awMB2KLNhfUr"
      },
      "execution_count": null,
      "outputs": []
    },
    {
      "cell_type": "code",
      "source": [
        "#Let's check how acccurately it encodes the info as quantum state"
      ],
      "metadata": {
        "id": "A9VsTsSNhnBa"
      },
      "execution_count": null,
      "outputs": []
    },
    {
      "cell_type": "code",
      "source": [
        "#from qiskit_aer.primitives import Estimator as Est\n",
        "from qiskit.primitives import StatevectorSampler as SvS"
      ],
      "metadata": {
        "id": "1ryV2Hc7ijdV"
      },
      "execution_count": null,
      "outputs": []
    },
    {
      "cell_type": "code",
      "source": [
        "samp = SvS()"
      ],
      "metadata": {
        "id": "-F_ktWYPnODj"
      },
      "execution_count": null,
      "outputs": []
    },
    {
      "cell_type": "code",
      "source": [
        "job = samp.run([qc], shots=2)\n",
        "res=job.result()\n",
        "ls = res[0].data.meas.get_bitstrings()\n",
        "ls"
      ],
      "metadata": {
        "colab": {
          "base_uri": "https://localhost:8080/"
        },
        "id": "GzWRhOq5fUrf",
        "outputId": "cf1d0854-b961-404c-a920-3f77d8dbdf65"
      },
      "execution_count": null,
      "outputs": [
        {
          "output_type": "execute_result",
          "data": {
            "text/plain": [
              "['1101000010101000', '1101000010101000']"
            ]
          },
          "metadata": {},
          "execution_count": 9
        }
      ]
    },
    {
      "cell_type": "code",
      "source": [
        "Asc_reg"
      ],
      "metadata": {
        "colab": {
          "base_uri": "https://localhost:8080/",
          "height": 36
        },
        "id": "soBfjPkAfUoc",
        "outputId": "6ac907af-5fa7-441e-928d-8f6829ca7cde"
      },
      "execution_count": null,
      "outputs": [
        {
          "output_type": "execute_result",
          "data": {
            "text/plain": [
              "'0001010100001011'"
            ],
            "application/vnd.google.colaboratory.intrinsic+json": {
              "type": "string"
            }
          },
          "metadata": {},
          "execution_count": 11
        }
      ]
    },
    {
      "cell_type": "code",
      "source": [
        "'''As you may observe the ordering of bits are flipped here\n",
        "so, this must be taken in the immediate process of measured output'''"
      ],
      "metadata": {
        "id": "uR-geAcJe90R"
      },
      "execution_count": null,
      "outputs": []
    },
    {
      "cell_type": "code",
      "source": [
        "def flipper(stri):\n",
        "  test = \"\"\n",
        "  for i in range(len(stri)):\n",
        "    test = stri[i] + test\n",
        "  return test\n",
        "flipper(ls[0])"
      ],
      "metadata": {
        "colab": {
          "base_uri": "https://localhost:8080/",
          "height": 36
        },
        "id": "2py2LGNEo756",
        "outputId": "1625df39-b34a-473a-9369-8a80781558dd"
      },
      "execution_count": null,
      "outputs": [
        {
          "output_type": "execute_result",
          "data": {
            "text/plain": [
              "'0001010100001011'"
            ],
            "application/vnd.google.colaboratory.intrinsic+json": {
              "type": "string"
            }
          },
          "metadata": {},
          "execution_count": 14
        }
      ]
    },
    {
      "cell_type": "code",
      "source": [
        "flipper(ls[0])==Asc_reg"
      ],
      "metadata": {
        "colab": {
          "base_uri": "https://localhost:8080/"
        },
        "id": "tEmolDfJqgMu",
        "outputId": "6ca1a20e-446d-4c31-dab7-85a8d5057084"
      },
      "execution_count": null,
      "outputs": [
        {
          "output_type": "execute_result",
          "data": {
            "text/plain": [
              "True"
            ]
          },
          "metadata": {},
          "execution_count": 15
        }
      ]
    },
    {
      "cell_type": "code",
      "source": [
        "'''Thus, its verified that our model of encoding and decoding\n",
        "of bits to states are consistent.'''"
      ],
      "metadata": {
        "id": "iBY1_iusqje2"
      },
      "execution_count": null,
      "outputs": []
    },
    {
      "cell_type": "code",
      "source": [],
      "metadata": {
        "id": "_pEbkgpvqkcO"
      },
      "execution_count": null,
      "outputs": []
    },
    {
      "cell_type": "code",
      "source": [
        "qc.draw()"
      ],
      "metadata": {
        "colab": {
          "base_uri": "https://localhost:8080/",
          "height": 556
        },
        "id": "SM_0WThVrBhr",
        "outputId": "e698899b-df99-4906-8966-74aeb5ddc864"
      },
      "execution_count": null,
      "outputs": [
        {
          "output_type": "execute_result",
          "data": {
            "text/plain": [
              "               ░ ┌─┐                                             \n",
              "    q_0: ──────░─┤M├─────────────────────────────────────────────\n",
              "               ░ └╥┘┌─┐                                          \n",
              "    q_1: ──────░──╫─┤M├──────────────────────────────────────────\n",
              "               ░  ║ └╥┘┌─┐                                       \n",
              "    q_2: ──────░──╫──╫─┤M├───────────────────────────────────────\n",
              "         ┌───┐ ░  ║  ║ └╥┘┌─┐                                    \n",
              "    q_3: ┤ X ├─░──╫──╫──╫─┤M├────────────────────────────────────\n",
              "         └───┘ ░  ║  ║  ║ └╥┘┌─┐                                 \n",
              "    q_4: ──────░──╫──╫──╫──╫─┤M├─────────────────────────────────\n",
              "         ┌───┐ ░  ║  ║  ║  ║ └╥┘┌─┐                              \n",
              "    q_5: ┤ X ├─░──╫──╫──╫──╫──╫─┤M├──────────────────────────────\n",
              "         └───┘ ░  ║  ║  ║  ║  ║ └╥┘┌─┐                           \n",
              "    q_6: ──────░──╫──╫──╫──╫──╫──╫─┤M├───────────────────────────\n",
              "         ┌───┐ ░  ║  ║  ║  ║  ║  ║ └╥┘┌─┐                        \n",
              "    q_7: ┤ X ├─░──╫──╫──╫──╫──╫──╫──╫─┤M├────────────────────────\n",
              "         └───┘ ░  ║  ║  ║  ║  ║  ║  ║ └╥┘┌─┐                     \n",
              "    q_8: ──────░──╫──╫──╫──╫──╫──╫──╫──╫─┤M├─────────────────────\n",
              "               ░  ║  ║  ║  ║  ║  ║  ║  ║ └╥┘┌─┐                  \n",
              "    q_9: ──────░──╫──╫──╫──╫──╫──╫──╫──╫──╫─┤M├──────────────────\n",
              "               ░  ║  ║  ║  ║  ║  ║  ║  ║  ║ └╥┘┌─┐               \n",
              "   q_10: ──────░──╫──╫──╫──╫──╫──╫──╫──╫──╫──╫─┤M├───────────────\n",
              "               ░  ║  ║  ║  ║  ║  ║  ║  ║  ║  ║ └╥┘┌─┐            \n",
              "   q_11: ──────░──╫──╫──╫──╫──╫──╫──╫──╫──╫──╫──╫─┤M├────────────\n",
              "         ┌───┐ ░  ║  ║  ║  ║  ║  ║  ║  ║  ║  ║  ║ └╥┘┌─┐         \n",
              "   q_12: ┤ X ├─░──╫──╫──╫──╫──╫──╫──╫──╫──╫──╫──╫──╫─┤M├─────────\n",
              "         └───┘ ░  ║  ║  ║  ║  ║  ║  ║  ║  ║  ║  ║  ║ └╥┘┌─┐      \n",
              "   q_13: ──────░──╫──╫──╫──╫──╫──╫──╫──╫──╫──╫──╫──╫──╫─┤M├──────\n",
              "         ┌───┐ ░  ║  ║  ║  ║  ║  ║  ║  ║  ║  ║  ║  ║  ║ └╥┘┌─┐   \n",
              "   q_14: ┤ X ├─░──╫──╫──╫──╫──╫──╫──╫──╫──╫──╫──╫──╫──╫──╫─┤M├───\n",
              "         ├───┤ ░  ║  ║  ║  ║  ║  ║  ║  ║  ║  ║  ║  ║  ║  ║ └╥┘┌─┐\n",
              "   q_15: ┤ X ├─░──╫──╫──╫──╫──╫──╫──╫──╫──╫──╫──╫──╫──╫──╫──╫─┤M├\n",
              "         └───┘ ░  ║  ║  ║  ║  ║  ║  ║  ║  ║  ║  ║  ║  ║  ║  ║ └╥┘\n",
              "meas: 16/═════════╩══╩══╩══╩══╩══╩══╩══╩══╩══╩══╩══╩══╩══╩══╩══╩═\n",
              "                  0  1  2  3  4  5  6  7  8  9  10 11 12 13 14 15"
            ],
            "text/html": [
              "<pre style=\"word-wrap: normal;white-space: pre;background: #fff0;line-height: 1.1;font-family: &quot;Courier New&quot;,Courier,monospace\">               ░ ┌─┐                                             \n",
              "    q_0: ──────░─┤M├─────────────────────────────────────────────\n",
              "               ░ └╥┘┌─┐                                          \n",
              "    q_1: ──────░──╫─┤M├──────────────────────────────────────────\n",
              "               ░  ║ └╥┘┌─┐                                       \n",
              "    q_2: ──────░──╫──╫─┤M├───────────────────────────────────────\n",
              "         ┌───┐ ░  ║  ║ └╥┘┌─┐                                    \n",
              "    q_3: ┤ X ├─░──╫──╫──╫─┤M├────────────────────────────────────\n",
              "         └───┘ ░  ║  ║  ║ └╥┘┌─┐                                 \n",
              "    q_4: ──────░──╫──╫──╫──╫─┤M├─────────────────────────────────\n",
              "         ┌───┐ ░  ║  ║  ║  ║ └╥┘┌─┐                              \n",
              "    q_5: ┤ X ├─░──╫──╫──╫──╫──╫─┤M├──────────────────────────────\n",
              "         └───┘ ░  ║  ║  ║  ║  ║ └╥┘┌─┐                           \n",
              "    q_6: ──────░──╫──╫──╫──╫──╫──╫─┤M├───────────────────────────\n",
              "         ┌───┐ ░  ║  ║  ║  ║  ║  ║ └╥┘┌─┐                        \n",
              "    q_7: ┤ X ├─░──╫──╫──╫──╫──╫──╫──╫─┤M├────────────────────────\n",
              "         └───┘ ░  ║  ║  ║  ║  ║  ║  ║ └╥┘┌─┐                     \n",
              "    q_8: ──────░──╫──╫──╫──╫──╫──╫──╫──╫─┤M├─────────────────────\n",
              "               ░  ║  ║  ║  ║  ║  ║  ║  ║ └╥┘┌─┐                  \n",
              "    q_9: ──────░──╫──╫──╫──╫──╫──╫──╫──╫──╫─┤M├──────────────────\n",
              "               ░  ║  ║  ║  ║  ║  ║  ║  ║  ║ └╥┘┌─┐               \n",
              "   q_10: ──────░──╫──╫──╫──╫──╫──╫──╫──╫──╫──╫─┤M├───────────────\n",
              "               ░  ║  ║  ║  ║  ║  ║  ║  ║  ║  ║ └╥┘┌─┐            \n",
              "   q_11: ──────░──╫──╫──╫──╫──╫──╫──╫──╫──╫──╫──╫─┤M├────────────\n",
              "         ┌───┐ ░  ║  ║  ║  ║  ║  ║  ║  ║  ║  ║  ║ └╥┘┌─┐         \n",
              "   q_12: ┤ X ├─░──╫──╫──╫──╫──╫──╫──╫──╫──╫──╫──╫──╫─┤M├─────────\n",
              "         └───┘ ░  ║  ║  ║  ║  ║  ║  ║  ║  ║  ║  ║  ║ └╥┘┌─┐      \n",
              "   q_13: ──────░──╫──╫──╫──╫──╫──╫──╫──╫──╫──╫──╫──╫──╫─┤M├──────\n",
              "         ┌───┐ ░  ║  ║  ║  ║  ║  ║  ║  ║  ║  ║  ║  ║  ║ └╥┘┌─┐   \n",
              "   q_14: ┤ X ├─░──╫──╫──╫──╫──╫──╫──╫──╫──╫──╫──╫──╫──╫──╫─┤M├───\n",
              "         ├───┤ ░  ║  ║  ║  ║  ║  ║  ║  ║  ║  ║  ║  ║  ║  ║ └╥┘┌─┐\n",
              "   q_15: ┤ X ├─░──╫──╫──╫──╫──╫──╫──╫──╫──╫──╫──╫──╫──╫──╫──╫─┤M├\n",
              "         └───┘ ░  ║  ║  ║  ║  ║  ║  ║  ║  ║  ║  ║  ║  ║  ║  ║ └╥┘\n",
              "meas: 16/═════════╩══╩══╩══╩══╩══╩══╩══╩══╩══╩══╩══╩══╩══╩══╩══╩═\n",
              "                  0  1  2  3  4  5  6  7  8  9  10 11 12 13 14 15</pre>"
            ]
          },
          "metadata": {},
          "execution_count": 16
        }
      ]
    },
    {
      "cell_type": "code",
      "source": [
        "#KeyGen using random\n",
        "import random as ran"
      ],
      "metadata": {
        "id": "6SfIB1SNsSm8"
      },
      "execution_count": null,
      "outputs": []
    },
    {
      "cell_type": "code",
      "source": [
        "ran.seed(4)\n",
        "key = []\n",
        "for i in range(len(Asc_reg)):\n",
        "  sub_key = []\n",
        "  for j in range(2): #The reason I'm storing this in pair is because one of them signify Z^a (Z-gate) operation while one being X^b (X-gate)\n",
        "    sub_key.append(ran.randint(0, 1))\n",
        "  key.append(sub_key)\n",
        "key[12:16]"
      ],
      "metadata": {
        "colab": {
          "base_uri": "https://localhost:8080/"
        },
        "id": "ThM_RJkEqkYu",
        "outputId": "cd353a3a-4cda-4d00-fcf1-a19af0c38ad9"
      },
      "execution_count": null,
      "outputs": [
        {
          "output_type": "execute_result",
          "data": {
            "text/plain": [
              "[[1, 1], [1, 0], [1, 1], [0, 0]]"
            ]
          },
          "metadata": {},
          "execution_count": 64
        }
      ]
    },
    {
      "cell_type": "code",
      "source": [],
      "metadata": {
        "id": "po_bGwmVqkWl"
      },
      "execution_count": null,
      "outputs": []
    },
    {
      "cell_type": "code",
      "source": [
        "#Let's start encryption while the information is in quantum states"
      ],
      "metadata": {
        "id": "42lLKrw8rBnJ"
      },
      "execution_count": null,
      "outputs": []
    },
    {
      "cell_type": "code",
      "source": [
        "for i in range(len(Asc_reg)):\n",
        "  if key[i][0]==1:\n",
        "    qc.z(i)\n",
        "\n",
        "  if key[i][1]==1:\n",
        "    qc.x(i)\n",
        "qc.measure_all()"
      ],
      "metadata": {
        "id": "-LDP60qBt7So"
      },
      "execution_count": null,
      "outputs": []
    },
    {
      "cell_type": "code",
      "source": [
        "job = samp.run([qc], shots=2)\n",
        "res=job.result()\n",
        "ls = res[0].data.meas.get_bitstrings()\n",
        "ls"
      ],
      "metadata": {
        "colab": {
          "base_uri": "https://localhost:8080/"
        },
        "id": "LjPjUam5t7Gb",
        "outputId": "bf2e1f8b-12e2-4f76-da1c-b4ca6c52ca61"
      },
      "execution_count": null,
      "outputs": [
        {
          "output_type": "execute_result",
          "data": {
            "text/plain": [
              "['0100001101111001', '0100001101111001']"
            ]
          },
          "metadata": {},
          "execution_count": 66
        }
      ]
    },
    {
      "cell_type": "code",
      "source": [
        "Enc_Asc = flipper(ls[0])"
      ],
      "metadata": {
        "id": "tfiiG3Jwt6-m"
      },
      "execution_count": null,
      "outputs": []
    },
    {
      "cell_type": "code",
      "source": [
        "Enc_Asc"
      ],
      "metadata": {
        "colab": {
          "base_uri": "https://localhost:8080/",
          "height": 36
        },
        "id": "t76jeT7q02Ra",
        "outputId": "18865235-3da8-4e40-eb40-3f4b9ca1b46a"
      },
      "execution_count": null,
      "outputs": [
        {
          "output_type": "execute_result",
          "data": {
            "text/plain": [
              "'1001111011000010'"
            ],
            "application/vnd.google.colaboratory.intrinsic+json": {
              "type": "string"
            }
          },
          "metadata": {},
          "execution_count": 68
        }
      ]
    },
    {
      "cell_type": "code",
      "source": [
        "def bin2dec(n):\n",
        "  num = 0\n",
        "  for i in range(len(n)):\n",
        "    num = num + int(n[i])*2**(len(n)-i-1)\n",
        "  return num\n",
        "bin2dec('110')"
      ],
      "metadata": {
        "colab": {
          "base_uri": "https://localhost:8080/"
        },
        "id": "ygAQWYF6xHtE",
        "outputId": "5dbfc004-05c5-4d88-9a16-9bb21b8817e9"
      },
      "execution_count": null,
      "outputs": [
        {
          "output_type": "execute_result",
          "data": {
            "text/plain": [
              "6"
            ]
          },
          "metadata": {},
          "execution_count": 39
        }
      ]
    },
    {
      "cell_type": "code",
      "source": [
        "enc_Char = []\n",
        "bit = \"\"\n",
        "for i in range(len(Enc_Asc)):\n",
        "  bit = bit + Enc_Asc[i]\n",
        "  if len(bit)==8:\n",
        "    enc_Char.append(chr(bin2dec(bit)))\n",
        "    bit = \"\"\n",
        "  #print(bit)\n",
        "enc_Char"
      ],
      "metadata": {
        "colab": {
          "base_uri": "https://localhost:8080/"
        },
        "id": "PL8fU794wkrr",
        "outputId": "58491a50-ba57-4d81-dbb4-09b097ea4a64"
      },
      "execution_count": null,
      "outputs": [
        {
          "output_type": "execute_result",
          "data": {
            "text/plain": [
              "['\\x9e', 'Â']"
            ]
          },
          "metadata": {},
          "execution_count": 69
        }
      ]
    },
    {
      "cell_type": "code",
      "source": [
        "ord('\\x9e')"
      ],
      "metadata": {
        "colab": {
          "base_uri": "https://localhost:8080/"
        },
        "id": "Luil42cAwkoL",
        "outputId": "e99ac681-f5be-44f0-d0ee-83bd727b3911"
      },
      "execution_count": null,
      "outputs": [
        {
          "output_type": "execute_result",
          "data": {
            "text/plain": [
              "158"
            ]
          },
          "metadata": {},
          "execution_count": 71
        }
      ]
    },
    {
      "cell_type": "code",
      "source": [
        "#Here's the encrypted cipher\n",
        "C = \"\"\n",
        "for i in range(len(enc_Char)):\n",
        "  C = C + enc_Char[i]\n",
        "C"
      ],
      "metadata": {
        "colab": {
          "base_uri": "https://localhost:8080/",
          "height": 36
        },
        "id": "Ikv5UJ3iwki1",
        "outputId": "e976cd78-e38d-4d05-c8d4-a4ac05b8a2c9"
      },
      "execution_count": null,
      "outputs": [
        {
          "output_type": "execute_result",
          "data": {
            "text/plain": [
              "'\\x9eÂ'"
            ],
            "application/vnd.google.colaboratory.intrinsic+json": {
              "type": "string"
            }
          },
          "metadata": {},
          "execution_count": 72
        }
      ]
    },
    {
      "cell_type": "code",
      "source": [],
      "metadata": {
        "id": "6ZmsdR2ezof4"
      },
      "execution_count": null,
      "outputs": []
    },
    {
      "cell_type": "code",
      "source": [],
      "metadata": {
        "id": "hih1BN9UzoXn"
      },
      "execution_count": null,
      "outputs": []
    },
    {
      "cell_type": "code",
      "source": [
        "#Let's begin the decryption"
      ],
      "metadata": {
        "id": "_0w5o45mzr2c"
      },
      "execution_count": null,
      "outputs": []
    },
    {
      "cell_type": "code",
      "source": [
        "#Given info:\n",
        "C, key[12:16]"
      ],
      "metadata": {
        "colab": {
          "base_uri": "https://localhost:8080/"
        },
        "id": "YWLde8840Dx-",
        "outputId": "610a5c81-c7e2-4a81-f36a-ae48b8c927be"
      },
      "execution_count": null,
      "outputs": [
        {
          "output_type": "execute_result",
          "data": {
            "text/plain": [
              "('\\x9eÂ', [[1, 1], [1, 0], [1, 1], [0, 0]])"
            ]
          },
          "metadata": {},
          "execution_count": 73
        }
      ]
    },
    {
      "cell_type": "code",
      "source": [
        "C_Asc = \"\"\n",
        "for i in range(len(C)):\n",
        "  C_Asc = C_Asc + dec2bin(ord(C[i]), 8)"
      ],
      "metadata": {
        "id": "UsQcIMbTzroI"
      },
      "execution_count": null,
      "outputs": []
    },
    {
      "cell_type": "code",
      "source": [
        "dec2bin(2, 3)"
      ],
      "metadata": {
        "colab": {
          "base_uri": "https://localhost:8080/",
          "height": 36
        },
        "id": "g3O-9BiT1T3L",
        "outputId": "af65dc6c-1a51-46f8-9c95-6652499811a1"
      },
      "execution_count": null,
      "outputs": [
        {
          "output_type": "execute_result",
          "data": {
            "text/plain": [
              "'010'"
            ],
            "application/vnd.google.colaboratory.intrinsic+json": {
              "type": "string"
            }
          },
          "metadata": {},
          "execution_count": 75
        }
      ]
    },
    {
      "cell_type": "code",
      "source": [
        "C_Asc"
      ],
      "metadata": {
        "colab": {
          "base_uri": "https://localhost:8080/",
          "height": 36
        },
        "id": "Xh-YcmYVzrca",
        "outputId": "1be0fd3a-ed98-4f84-af30-a42391ceeb25"
      },
      "execution_count": null,
      "outputs": [
        {
          "output_type": "execute_result",
          "data": {
            "text/plain": [
              "'1001111011000010'"
            ],
            "application/vnd.google.colaboratory.intrinsic+json": {
              "type": "string"
            }
          },
          "metadata": {},
          "execution_count": 76
        }
      ]
    },
    {
      "cell_type": "code",
      "source": [],
      "metadata": {
        "id": "DFqU0zkc0YvW"
      },
      "execution_count": null,
      "outputs": []
    },
    {
      "cell_type": "code",
      "source": [
        "qc = qk.QuantumCircuit(len(C_Asc))\n",
        "for i in range(len(C_Asc)):\n",
        "  if C_Asc[i]=='1':\n",
        "    qc.x(i)\n",
        "qc.draw()"
      ],
      "metadata": {
        "colab": {
          "base_uri": "https://localhost:8080/",
          "height": 525
        },
        "id": "_m6Th-8k2lkV",
        "outputId": "afe4da25-f6ed-45bb-9173-ea154dbe807f"
      },
      "execution_count": null,
      "outputs": [
        {
          "output_type": "execute_result",
          "data": {
            "text/plain": [
              "      ┌───┐\n",
              " q_0: ┤ X ├\n",
              "      └───┘\n",
              " q_1: ─────\n",
              "           \n",
              " q_2: ─────\n",
              "      ┌───┐\n",
              " q_3: ┤ X ├\n",
              "      ├───┤\n",
              " q_4: ┤ X ├\n",
              "      ├───┤\n",
              " q_5: ┤ X ├\n",
              "      ├───┤\n",
              " q_6: ┤ X ├\n",
              "      └───┘\n",
              " q_7: ─────\n",
              "      ┌───┐\n",
              " q_8: ┤ X ├\n",
              "      ├───┤\n",
              " q_9: ┤ X ├\n",
              "      └───┘\n",
              "q_10: ─────\n",
              "           \n",
              "q_11: ─────\n",
              "           \n",
              "q_12: ─────\n",
              "           \n",
              "q_13: ─────\n",
              "      ┌───┐\n",
              "q_14: ┤ X ├\n",
              "      └───┘\n",
              "q_15: ─────\n",
              "           "
            ],
            "text/html": [
              "<pre style=\"word-wrap: normal;white-space: pre;background: #fff0;line-height: 1.1;font-family: &quot;Courier New&quot;,Courier,monospace\">      ┌───┐\n",
              " q_0: ┤ X ├\n",
              "      └───┘\n",
              " q_1: ─────\n",
              "           \n",
              " q_2: ─────\n",
              "      ┌───┐\n",
              " q_3: ┤ X ├\n",
              "      ├───┤\n",
              " q_4: ┤ X ├\n",
              "      ├───┤\n",
              " q_5: ┤ X ├\n",
              "      ├───┤\n",
              " q_6: ┤ X ├\n",
              "      └───┘\n",
              " q_7: ─────\n",
              "      ┌───┐\n",
              " q_8: ┤ X ├\n",
              "      ├───┤\n",
              " q_9: ┤ X ├\n",
              "      └───┘\n",
              "q_10: ─────\n",
              "           \n",
              "q_11: ─────\n",
              "           \n",
              "q_12: ─────\n",
              "           \n",
              "q_13: ─────\n",
              "      ┌───┐\n",
              "q_14: ┤ X ├\n",
              "      └───┘\n",
              "q_15: ─────\n",
              "           </pre>"
            ]
          },
          "metadata": {},
          "execution_count": 77
        }
      ]
    },
    {
      "cell_type": "code",
      "source": [],
      "metadata": {
        "id": "_BlmyiwH4O9l"
      },
      "execution_count": null,
      "outputs": []
    },
    {
      "cell_type": "code",
      "source": [
        "#Applying decryption"
      ],
      "metadata": {
        "id": "uvhMQVMb2lg9"
      },
      "execution_count": null,
      "outputs": []
    },
    {
      "cell_type": "code",
      "source": [
        "for i in range(len(key)):\n",
        "  if key[i][1]==1:\n",
        "    qc.x(i)\n",
        "\n",
        "  if key[i][0]==1:\n",
        "    qc.z(i)\n",
        "qc.measure_all()"
      ],
      "metadata": {
        "id": "T9ksuHWpzoQj"
      },
      "execution_count": null,
      "outputs": []
    },
    {
      "cell_type": "code",
      "source": [
        "job = samp.run([qc], shots=2)\n",
        "res=job.result()\n",
        "ls = res[0].data.meas.get_bitstrings()\n",
        "ls"
      ],
      "metadata": {
        "colab": {
          "base_uri": "https://localhost:8080/"
        },
        "id": "emv8j9cj4Pzv",
        "outputId": "ab5e554d-ce5e-4e2f-ec09-db08c3bb67cf"
      },
      "execution_count": null,
      "outputs": [
        {
          "output_type": "execute_result",
          "data": {
            "text/plain": [
              "['0001011000101010', '0001011000101010']"
            ]
          },
          "metadata": {},
          "execution_count": 79
        }
      ]
    },
    {
      "cell_type": "code",
      "source": [
        "Dec_Asc = flipper(ls[0])"
      ],
      "metadata": {
        "id": "XRzfD2xv4PwY"
      },
      "execution_count": null,
      "outputs": []
    },
    {
      "cell_type": "code",
      "source": [],
      "metadata": {
        "id": "Tli1Fcq7qkTv"
      },
      "execution_count": null,
      "outputs": []
    },
    {
      "cell_type": "code",
      "source": [
        "#Viewing the string"
      ],
      "metadata": {
        "id": "CzM2jDC0433i"
      },
      "execution_count": null,
      "outputs": []
    },
    {
      "cell_type": "code",
      "source": [
        "dec_Char = []\n",
        "bit = \"\"\n",
        "for i in range(len(Dec_Asc)):\n",
        "  bit = bit + Dec_Asc[i]\n",
        "  if len(bit)==8:\n",
        "    dec_Char.append(chr(bin2dec(bit)))\n",
        "    bit = \"\"\n",
        "  #print(bit)\n",
        "dec_Char"
      ],
      "metadata": {
        "colab": {
          "base_uri": "https://localhost:8080/"
        },
        "id": "wlTxZCRr430e",
        "outputId": "db2b1ff2-1678-4a72-fd90-cc7aad7cf405"
      },
      "execution_count": null,
      "outputs": [
        {
          "output_type": "execute_result",
          "data": {
            "text/plain": [
              "['T', 'h']"
            ]
          },
          "metadata": {},
          "execution_count": 81
        }
      ]
    },
    {
      "cell_type": "code",
      "source": [
        "#Therefore the decrypted message is\n",
        "D = \"\"\n",
        "for i in range(len(dec_Char)):\n",
        "  D = D + dec_Char[i]\n",
        "D"
      ],
      "metadata": {
        "colab": {
          "base_uri": "https://localhost:8080/",
          "height": 36
        },
        "id": "B2hnThIs43xy",
        "outputId": "f2baa379-7a3f-4a5a-8d23-3e2806eb8cdb"
      },
      "execution_count": null,
      "outputs": [
        {
          "output_type": "execute_result",
          "data": {
            "text/plain": [
              "'Th'"
            ],
            "application/vnd.google.colaboratory.intrinsic+json": {
              "type": "string"
            }
          },
          "metadata": {},
          "execution_count": 82
        }
      ]
    },
    {
      "cell_type": "code",
      "source": [],
      "metadata": {
        "id": "QgjMz_ug43ul"
      },
      "execution_count": null,
      "outputs": []
    },
    {
      "cell_type": "code",
      "source": [],
      "metadata": {
        "id": "3aNBu1Oo5dGB"
      },
      "execution_count": null,
      "outputs": []
    }
  ]
}